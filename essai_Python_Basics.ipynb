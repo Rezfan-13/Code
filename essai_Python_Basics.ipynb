{
  "nbformat": 4,
  "nbformat_minor": 0,
  "metadata": {
    "colab": {
      "name": "essai Python Basics.ipynb",
      "provenance": [],
      "authorship_tag": "ABX9TyNTUPq5agaLiFqhOQ3ikv1p",
      "include_colab_link": true
    },
    "kernelspec": {
      "name": "python3",
      "display_name": "Python 3"
    }
  },
  "cells": [
    {
      "cell_type": "markdown",
      "metadata": {
        "id": "view-in-github",
        "colab_type": "text"
      },
      "source": [
        "<a href=\"https://colab.research.google.com/github/Rezfan-13/Code/blob/main/essai_Python_Basics.ipynb\" target=\"_parent\"><img src=\"https://colab.research.google.com/assets/colab-badge.svg\" alt=\"Open In Colab\"/></a>"
      ]
    },
    {
      "cell_type": "markdown",
      "metadata": {
        "id": "8smwhiaRP21X"
      },
      "source": [
        "# 6."
      ]
    },
    {
      "cell_type": "code",
      "metadata": {
        "id": "gv1ps2L9vmU9",
        "colab": {
          "base_uri": "https://localhost:8080/"
        },
        "outputId": "042000b6-ed9f-4f8e-8dba-60ad6504c24b"
      },
      "source": [
        "def balik(kata): \r\n",
        "    dex = -1     \r\n",
        "    for i in range(len(kata)-1, int(len(kata)/2), -1):           \r\n",
        "        if kata[i].isalpha(): \r\n",
        "            temp = kata[i] \r\n",
        "            while True: \r\n",
        "                dex += 1\r\n",
        "                if kata[dex].isalpha(): \r\n",
        "                    kata[i] = kata[dex] \r\n",
        "                    kata[dex] = temp \r\n",
        "                    break\r\n",
        "    return kata  \r\n",
        "\r\n",
        "\r\n",
        "while True:\r\n",
        "  string=input(\"masukan kata: \")\r\n",
        "  string=balik(list(string))\r\n",
        "  print(\"output:\",\"\".join(string))\r\n",
        "  b=input((\"input lagi(y/n):\"))\r\n",
        "  if b == \"y\":\r\n",
        "    continue\r\n",
        "  elif b==\"n\":\r\n",
        "    print(\"terimakasih\")\r\n",
        "    break\r\n",
        "  else:\r\n",
        "    print(\"typo\")\r\n",
        "\r\n",
        "\r\n",
        "   \r\n"
      ],
      "execution_count": null,
      "outputs": [
        {
          "output_type": "stream",
          "text": [
            "masukan kata: AFC#47GH$Ieu\n",
            "output: ueI#47HG$CFA\n",
            "input lagi(y/n):y\n",
            "masukan kata: guyhiuj1234!@#$%rtyhghu\n",
            "output: uhghytr1234!@#$%juihyug\n",
            "input lagi(y/n):12!@\n",
            "typo\n",
            "masukan kata: 12!@\n",
            "output: 12!@\n",
            "input lagi(y/n):n\n",
            "terimakasih\n"
          ],
          "name": "stdout"
        }
      ]
    },
    {
      "cell_type": "markdown",
      "metadata": {
        "id": "_VJycL-g4VER"
      },
      "source": [
        "# 7"
      ]
    },
    {
      "cell_type": "code",
      "metadata": {
        "colab": {
          "base_uri": "https://localhost:8080/"
        },
        "id": "caw4XfP4bvZk",
        "outputId": "7ab8eccb-e058-43c3-8393-0a1d41146243"
      },
      "source": [
        "def digit(n):\r\n",
        "  a=[]\r\n",
        "  for i in range(1,n):\r\n",
        "    a.append(i)\r\n",
        "  b=list(map(str,a))\r\n",
        "  print(len((\"\".join(b))))\r\n",
        "\r\n",
        "digit(1)\r\n",
        "digit(10)\r\n",
        "digit(100)\r\n",
        "digit(2020)"
      ],
      "execution_count": null,
      "outputs": [
        {
          "output_type": "stream",
          "text": [
            "0\n",
            "9\n",
            "189\n",
            "6969\n"
          ],
          "name": "stdout"
        }
      ]
    }
  ]
}