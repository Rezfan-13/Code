{
  "nbformat": 4,
  "nbformat_minor": 0,
  "metadata": {
    "kernelspec": {
      "display_name": "Python 3",
      "language": "python",
      "name": "python3"
    },
    "language_info": {
      "codemirror_mode": {
        "name": "ipython",
        "version": 3
      },
      "file_extension": ".py",
      "mimetype": "text/x-python",
      "name": "python",
      "nbconvert_exporter": "python",
      "pygments_lexer": "ipython3",
      "version": "3.8.5"
    },
    "colab": {
      "name": "pandas_4.ipynb",
      "provenance": []
    }
  },
  "cells": [
    {
      "cell_type": "markdown",
      "metadata": {
        "id": "Mj6AJU_1Pb1U"
      },
      "source": [
        "## Dataframe"
      ]
    },
    {
      "cell_type": "code",
      "metadata": {
        "id": "t9gKYISzPb1c"
      },
      "source": [
        "import pandas as pd \n",
        "#Data Frame \n",
        "#Rows -> 2 Rows (Jane, Jake)\n",
        "#Column -> 2 Columns (Name Gender)\n",
        "\n",
        "data= {\"Name\":[\"Jane\",\"Jack\"], \"Gender\":[\"Female\",\"Male\"],\"Class\":[\"First Class\",\"Economy\"]}\n",
        "\n",
        "pd.DataFrame(data)"
      ],
      "execution_count": null,
      "outputs": []
    },
    {
      "cell_type": "markdown",
      "metadata": {
        "id": "9XNgr_kEPb1e"
      },
      "source": [
        "# Preparation\n",
        "- Importing pandas\n",
        "- Reading files\n",
        "    - CSV\n",
        "    - JSON\n",
        "    - XLS\n",
        "    - TXT\n",
        "    - https://pandas.pydata.org/pandas-docs/stable/user_guide/io.html"
      ]
    },
    {
      "cell_type": "markdown",
      "metadata": {
        "id": "wCioSEQHPb1f"
      },
      "source": [
        "## Importing Pandas"
      ]
    },
    {
      "cell_type": "code",
      "metadata": {
        "id": "dPxxByVTPb1f"
      },
      "source": [
        "import pandas as pd \n",
        "\n",
        "df = pd.read_csv(\"Titanic.csv\")"
      ],
      "execution_count": null,
      "outputs": []
    },
    {
      "cell_type": "markdown",
      "metadata": {
        "id": "L8eqOJ1UPb1f"
      },
      "source": [
        "## Reading Files "
      ]
    },
    {
      "cell_type": "code",
      "metadata": {
        "id": "sbjdeWsqPb1g"
      },
      "source": [
        "#print(df)\n",
        "\n",
        "df"
      ],
      "execution_count": null,
      "outputs": []
    },
    {
      "cell_type": "markdown",
      "metadata": {
        "id": "Zl3htjcDPb1g"
      },
      "source": [
        "## Data Types "
      ]
    },
    {
      "cell_type": "code",
      "metadata": {
        "id": "ZQvli0UiPb1h"
      },
      "source": [
        "df.dtypes"
      ],
      "execution_count": null,
      "outputs": []
    },
    {
      "cell_type": "markdown",
      "metadata": {
        "id": "8L3LAzMePb1h"
      },
      "source": [
        "## Reading & Filtering Data"
      ]
    },
    {
      "cell_type": "markdown",
      "metadata": {
        "id": "c5zGlMycPb1h"
      },
      "source": [
        "- Reading top and bottom rows (head and tail)\n",
        "- Reading headers (column names) and data types\n",
        "- Reading datas from specific columns\n",
        "- Reading datas from specific rows\n",
        "- Getting datas from specific row and column\n",
        "- Iterating datas through rows"
      ]
    },
    {
      "cell_type": "code",
      "metadata": {
        "id": "T7TnPzHUPb1i"
      },
      "source": [
        "#Check the first five rows (by default)\n",
        "df.head()\n",
        "\n",
        "#Check the first n rows e.g. first 10 rwos \n",
        "df.head(10) \n",
        "\n",
        "#Check the last five rows (by default)\n",
        "df.tail()\n",
        "\n",
        "#Check the last h riws e.g. last 10 rows \n",
        "df.tail(10)\n",
        "\n",
        "#Check columnns\n",
        "df.columns\n",
        "\n",
        "#Check  a specific column \n",
        "df[\"Name\"]\n",
        "\n",
        "#Check specific columns \n",
        "df[[\"Name\",\"Sex\",\"Age\"]]\n",
        "\n",
        "#Check specific row \n",
        "df.iloc[0]\n",
        "\n",
        "#Check specific rows \n",
        "df.iloc[0:10+1]\n",
        "\n",
        "#Check specific rows and columns 1\n",
        "df.iloc[0:50][[\"Name\",\"Age\",\"Sex\",\"Fare\"]]\n",
        "\n",
        "#Check specific rows and columns 2\n",
        "df.iloc[0:50,[3,4,5,9]]\n",
        "\n",
        "#Check specific rows and columns 3\n",
        "df.iloc[0:50,3:5+1]\n",
        "\n",
        "#male data only \n",
        "df[df[\"Sex\"] == \"male\"]\n",
        "\n",
        "# Iterating datas through rows 1\n",
        "# for i in range (len(df)) : \n",
        "#     print(i, df[\"Name\"][i], df[\"Age\"][i], df[\"Sex\"][i])\n",
        "\n",
        "\n",
        "# Iterating datas through rows 2\n",
        "# for index, row in df.iterrows():\n",
        "#     print(index,row[\"Name\"],row[\"Age\"],row[\"Sex\"])\n"
      ],
      "execution_count": null,
      "outputs": []
    },
    {
      "cell_type": "markdown",
      "metadata": {
        "id": "XtuULmwcPb1i"
      },
      "source": [
        "## Filtering "
      ]
    },
    {
      "cell_type": "markdown",
      "metadata": {
        "id": "jGgKBbEwPb1j"
      },
      "source": [
        "- Filtering data based on multiple conditions\n",
        "- Regex filtering\n",
        "- Resetting index\n"
      ]
    },
    {
      "cell_type": "code",
      "metadata": {
        "id": "g5lP7uSwPb1j"
      },
      "source": [
        "df = pd.read_csv(\"Titanic.csv\")\n",
        "\n",
        "#Filter based on certain condition \n",
        "first = df.loc[df[\"Pclass\"] == 1]\n",
        "\n",
        "\n",
        "#Filter based on multiple conditions \n",
        "first_and_survived = df.loc[(df[\"Pclass\"] == 1)&(df[\"Survived\"] == 1)]\n",
        "\n",
        "\n",
        "#Regex \n",
        "#String Contains \n",
        "mrs_only = df.loc[df[\"Name\"].str.contains(\"Mrs.\")]\n"
      ],
      "execution_count": null,
      "outputs": []
    },
    {
      "cell_type": "code",
      "metadata": {
        "id": "FSxvHbGWPb1k"
      },
      "source": [
        "#Regex \n",
        "#Import re \n",
        "import re \n",
        "\n",
        "#Loc string that contain \n",
        "mary_only = df.loc[df[\"Name\"].str.contains(\"mary\",flags = re.I)] \n",
        "\n",
        "mary_only\n",
        "\n",
        "df.loc[df[\"Ticket\"].str.contains(\"^PC[a-z]*\", flags = re.I)]\n",
        "\n",
        "#Resetting Index \n",
        "mary_only.reset_index(drop = True)"
      ],
      "execution_count": null,
      "outputs": []
    },
    {
      "cell_type": "markdown",
      "metadata": {
        "id": "f8J9ZgWqPb1k"
      },
      "source": [
        "# Describing Data\n",
        "- Getting count, mean, min, max, etc\n",
        "- Sorting datas"
      ]
    },
    {
      "cell_type": "code",
      "metadata": {
        "id": "KR1M-NebPb1k"
      },
      "source": [
        "#Count, mean, min, max, etc. \n",
        "df.describe()\n",
        "\n",
        "#Describe the data first\n",
        "mary_only.describe()\n",
        "\n",
        "#Sorting the values using sort_values \n",
        "mary_only.sort_values([\"Survived\",\"Fare\",\"Age\"],ascending = [\"True\",\"True\",\"True\"]).reset_index(drop = True)"
      ],
      "execution_count": null,
      "outputs": []
    },
    {
      "cell_type": "markdown",
      "metadata": {
        "id": "arCd_1dqPb1l"
      },
      "source": [
        "# Editing the Dataframe\n",
        "- Adding columns\n",
        "- Delete columns\n",
        "- Rearranging columns\n",
        "- Saving data to a new file"
      ]
    },
    {
      "cell_type": "code",
      "metadata": {
        "id": "6d1zUtujPb1l"
      },
      "source": [
        "df = pd.read_csv(\"Titanic.csv\")\n",
        "#Adding Columns \n",
        "df.head(10)\n",
        "\n",
        "df[\"Family\"] = df[\"SibSp\"] + df[\"Parch\"]\n",
        "\n",
        "df.head(10)\n",
        "\n",
        "#Delete columns \n",
        "no_fam = df.drop(columns= [\"Family\"])\n",
        "\n",
        "#Rearrange \n",
        "df.head(10)\n",
        "\n",
        "#Get the column first \n",
        "cols = list(df.columns)\n",
        "\n",
        "#Reaarrange process \n",
        "df = df[cols[0:6] + [cols[12]] + cols[6:12]]\n",
        "df"
      ],
      "execution_count": null,
      "outputs": []
    },
    {
      "cell_type": "markdown",
      "metadata": {
        "id": "l_CfiV3cPb1l"
      },
      "source": [
        "## Saving Data to A new Files \n"
      ]
    },
    {
      "cell_type": "code",
      "metadata": {
        "id": "Ilkt0bBYPb1m"
      },
      "source": [
        "#Saving back to CSV\n",
        "df.to_csv(\"Titanic_edited.csv\") \n",
        "\n",
        "df.to_json(\"Titanic_edited.json\")\n",
        "\n",
        "df.to_excel(\"Titanic_edited.xlsx\")"
      ],
      "execution_count": null,
      "outputs": []
    },
    {
      "cell_type": "markdown",
      "metadata": {
        "id": "9RCzegTbPb1m"
      },
      "source": [
        "# Aggregate Statistics\n",
        "- mean\n",
        "- sum\n",
        "- count"
      ]
    },
    {
      "cell_type": "code",
      "metadata": {
        "id": "k9W_bCeYPb1m"
      },
      "source": [
        "#Non specific \n",
        "#Mean\n",
        "df.mean()\n",
        "#Sum \n",
        "df.sum()\n",
        "#Count\n",
        "df.count()\n",
        "\n",
        "#Specific \n",
        "#Groupby mean \n",
        "df.groupby([\"Survived\"]).mean()\n",
        "\n",
        "#Groupby sum\n",
        "df.groupby([\"Sex\"]).sum()\n",
        "\n",
        "#Groupby count\n",
        "df.groupby([\"Survived\"]).count()"
      ],
      "execution_count": null,
      "outputs": []
    },
    {
      "cell_type": "markdown",
      "metadata": {
        "id": "qj3rNOW2Pb1n"
      },
      "source": [
        "# Cleaning datas\n",
        "- Importing numpy"
      ]
    },
    {
      "cell_type": "code",
      "metadata": {
        "id": "_xSUtrZ2Pb1n"
      },
      "source": [
        "# df.head(10)\n",
        "# import numpy as np\n",
        "import numpy as np \n"
      ],
      "execution_count": null,
      "outputs": []
    },
    {
      "cell_type": "markdown",
      "metadata": {
        "id": "qyoXFwfgPb1n"
      },
      "source": [
        "# Replacing Data"
      ]
    },
    {
      "cell_type": "code",
      "metadata": {
        "id": "Z27jovGbPb1n"
      },
      "source": [
        "#Replacing a column \n",
        "df.loc[df[\"Pclass\"] == 1, \"Pclass\"] = \"First Class\"\n",
        "\n",
        "#Replacing columns\n",
        "df.loc[df[\"Fare\"] < 10,[\"Pclass\",\"Cabin\"]] = [\"Second Class\",\"Small Cabin\"]\n",
        "df"
      ],
      "execution_count": null,
      "outputs": []
    },
    {
      "cell_type": "markdown",
      "metadata": {
        "id": "rD9SORXkPb1o"
      },
      "source": [
        "# Replacing null with mean\n",
        "The age column is numbers, make sense to replace the null with the mean value"
      ]
    },
    {
      "cell_type": "code",
      "metadata": {
        "id": "Ibs4S71YPb1o"
      },
      "source": [
        "#Repl\n",
        "# find mean of a certain column  e.g age \n",
        "age_mean = np.mean(df[\"Age\"])\n",
        "\n",
        "# replacing Nan (null value) with mean \n",
        "df.loc[pd.isnull(df[\"Age\"]),\"Age\"] = age_mean \n",
        "\n",
        "#Use count to make sure\n",
        "df.count()\n",
        "\n",
        "#Show 10 first data to double check \n",
        "df.head(10)"
      ],
      "execution_count": null,
      "outputs": []
    },
    {
      "cell_type": "markdown",
      "metadata": {
        "id": "3LEQbniAPb1o"
      },
      "source": [
        "# Dropping columns with a lot of null\n",
        "The cabin column is more than 75% null, so we can drop it"
      ]
    },
    {
      "cell_type": "code",
      "metadata": {
        "id": "DV4idSP7Pb1p"
      },
      "source": [
        "df = pd.read_csv(\"Titanic.csv\")\n",
        "\n",
        "\n",
        "# find mean of a certain column  e.g age \n",
        "age_mean = np.mean(df[\"Age\"])\n",
        "\n",
        "# replacing Nan (null value) with mean \n",
        "df.loc[pd.isnull(df[\"Age\"]),\"Age\"] = age_mean \n",
        "\n",
        "#Count to check agin \n",
        "df.groupby([\"Survived\"]).count()\n",
        "\n",
        "df = df.drop(columns = [\"Cabin\"])"
      ],
      "execution_count": null,
      "outputs": []
    },
    {
      "cell_type": "markdown",
      "metadata": {
        "id": "fGDi8lQdPb1q"
      },
      "source": [
        "# Replacing null with most common value\n",
        "The embarked column is letters, so we can replace the null with the most common value"
      ]
    },
    {
      "cell_type": "code",
      "metadata": {
        "id": "4Er2oRo5Pb1q"
      },
      "source": [
        "df.groupby([\"Survived\"]).count()\n",
        "\n",
        "df.groupby([\"Embarked\"]).count()\n",
        "\n",
        "df.loc[pd.isnull(df[\"Embarked\"]),\"Embarked\"] = \"S\" \n",
        "\n",
        "df.count()\n",
        "\n",
        "df"
      ],
      "execution_count": null,
      "outputs": []
    },
    {
      "cell_type": "markdown",
      "metadata": {
        "id": "DnTkEoYlPb1q"
      },
      "source": [
        "# Setting Chunksize"
      ]
    },
    {
      "cell_type": "code",
      "metadata": {
        "id": "DjWUFbz0Pb1q"
      },
      "source": [
        "# for df in pd.read_csv(\"Titanic.csv\", chunksize = 50):\n",
        "#     print(df)\n",
        "\n",
        "new_df = pd.DataFrame(columns = df.columns)\n",
        "new_df\n",
        "\n",
        "for df_iter in pd.read_csv(\"Titanic.csv\", chunksize = 10):\n",
        "    results = df_iter.groupby([\"Pclass\"]).count()\n",
        "    new_df = pd.concat([new_df, results])\n",
        "\n",
        "new_df.groupby(level = 0).sum()"
      ],
      "execution_count": null,
      "outputs": []
    }
  ]
}