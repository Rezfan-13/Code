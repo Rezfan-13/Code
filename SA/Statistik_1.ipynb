{
  "nbformat": 4,
  "nbformat_minor": 5,
  "metadata": {
    "kernelspec": {
      "display_name": "Python 3",
      "language": "python",
      "name": "python3"
    },
    "language_info": {
      "codemirror_mode": {
        "name": "ipython",
        "version": 3
      },
      "file_extension": ".py",
      "mimetype": "text/x-python",
      "name": "python",
      "nbconvert_exporter": "python",
      "pygments_lexer": "ipython3",
      "version": "3.9.2"
    },
    "colab": {
      "name": "Statistik 1.ipynb",
      "provenance": [],
      "collapsed_sections": [
        "hearing-invalid",
        "charitable-joseph",
        "improving-conspiracy",
        "angry-smith",
        "ancient-complexity",
        "northern-carbon",
        "earlier-legislature",
        "abstract-brazil",
        "purple-sleeve",
        "global-module",
        "professional-consent",
        "operational-graphic",
        "adolescent-baltimore",
        "reduced-smoke",
        "noticed-cliff",
        "great-signature",
        "forbidden-sudan",
        "banned-distance",
        "major-afternoon",
        "democratic-couple",
        "naval-astronomy"
      ]
    }
  },
  "cells": [
    {
      "cell_type": "code",
      "metadata": {
        "id": "anticipated-daughter"
      },
      "source": [
        "import pandas as pd\n",
        "import matplotlib.pyplot as plt\n",
        "import scipy.stats\n",
        "import pingouin as pg"
      ],
      "id": "anticipated-daughter",
      "execution_count": null,
      "outputs": []
    },
    {
      "cell_type": "code",
      "metadata": {
        "id": "miniature-administrator"
      },
      "source": [
        "df=pd.read_csv(\"Iris.csv\")"
      ],
      "id": "miniature-administrator",
      "execution_count": null,
      "outputs": []
    },
    {
      "cell_type": "code",
      "metadata": {
        "scrolled": true,
        "id": "printable-milan",
        "outputId": "9437e8d7-f1f0-4d80-cbee-8c56eb0f7497"
      },
      "source": [
        "df"
      ],
      "id": "printable-milan",
      "execution_count": null,
      "outputs": [
        {
          "output_type": "execute_result",
          "data": {
            "text/html": [
              "<div>\n",
              "<style scoped>\n",
              "    .dataframe tbody tr th:only-of-type {\n",
              "        vertical-align: middle;\n",
              "    }\n",
              "\n",
              "    .dataframe tbody tr th {\n",
              "        vertical-align: top;\n",
              "    }\n",
              "\n",
              "    .dataframe thead th {\n",
              "        text-align: right;\n",
              "    }\n",
              "</style>\n",
              "<table border=\"1\" class=\"dataframe\">\n",
              "  <thead>\n",
              "    <tr style=\"text-align: right;\">\n",
              "      <th></th>\n",
              "      <th>Id</th>\n",
              "      <th>SepalLengthCm</th>\n",
              "      <th>SepalWidthCm</th>\n",
              "      <th>PetalLengthCm</th>\n",
              "      <th>PetalWidthCm</th>\n",
              "      <th>Species</th>\n",
              "    </tr>\n",
              "  </thead>\n",
              "  <tbody>\n",
              "    <tr>\n",
              "      <th>0</th>\n",
              "      <td>1</td>\n",
              "      <td>5.1</td>\n",
              "      <td>3.5</td>\n",
              "      <td>1.4</td>\n",
              "      <td>0.2</td>\n",
              "      <td>Iris-setosa</td>\n",
              "    </tr>\n",
              "    <tr>\n",
              "      <th>1</th>\n",
              "      <td>2</td>\n",
              "      <td>4.9</td>\n",
              "      <td>3.0</td>\n",
              "      <td>1.4</td>\n",
              "      <td>0.2</td>\n",
              "      <td>Iris-setosa</td>\n",
              "    </tr>\n",
              "    <tr>\n",
              "      <th>2</th>\n",
              "      <td>3</td>\n",
              "      <td>4.7</td>\n",
              "      <td>3.2</td>\n",
              "      <td>1.3</td>\n",
              "      <td>0.2</td>\n",
              "      <td>Iris-setosa</td>\n",
              "    </tr>\n",
              "    <tr>\n",
              "      <th>3</th>\n",
              "      <td>4</td>\n",
              "      <td>4.6</td>\n",
              "      <td>3.1</td>\n",
              "      <td>1.5</td>\n",
              "      <td>0.2</td>\n",
              "      <td>Iris-setosa</td>\n",
              "    </tr>\n",
              "    <tr>\n",
              "      <th>4</th>\n",
              "      <td>5</td>\n",
              "      <td>5.0</td>\n",
              "      <td>3.6</td>\n",
              "      <td>1.4</td>\n",
              "      <td>0.2</td>\n",
              "      <td>Iris-setosa</td>\n",
              "    </tr>\n",
              "    <tr>\n",
              "      <th>...</th>\n",
              "      <td>...</td>\n",
              "      <td>...</td>\n",
              "      <td>...</td>\n",
              "      <td>...</td>\n",
              "      <td>...</td>\n",
              "      <td>...</td>\n",
              "    </tr>\n",
              "    <tr>\n",
              "      <th>145</th>\n",
              "      <td>146</td>\n",
              "      <td>6.7</td>\n",
              "      <td>3.0</td>\n",
              "      <td>5.2</td>\n",
              "      <td>2.3</td>\n",
              "      <td>Iris-virginica</td>\n",
              "    </tr>\n",
              "    <tr>\n",
              "      <th>146</th>\n",
              "      <td>147</td>\n",
              "      <td>6.3</td>\n",
              "      <td>2.5</td>\n",
              "      <td>5.0</td>\n",
              "      <td>1.9</td>\n",
              "      <td>Iris-virginica</td>\n",
              "    </tr>\n",
              "    <tr>\n",
              "      <th>147</th>\n",
              "      <td>148</td>\n",
              "      <td>6.5</td>\n",
              "      <td>3.0</td>\n",
              "      <td>5.2</td>\n",
              "      <td>2.0</td>\n",
              "      <td>Iris-virginica</td>\n",
              "    </tr>\n",
              "    <tr>\n",
              "      <th>148</th>\n",
              "      <td>149</td>\n",
              "      <td>6.2</td>\n",
              "      <td>3.4</td>\n",
              "      <td>5.4</td>\n",
              "      <td>2.3</td>\n",
              "      <td>Iris-virginica</td>\n",
              "    </tr>\n",
              "    <tr>\n",
              "      <th>149</th>\n",
              "      <td>150</td>\n",
              "      <td>5.9</td>\n",
              "      <td>3.0</td>\n",
              "      <td>5.1</td>\n",
              "      <td>1.8</td>\n",
              "      <td>Iris-virginica</td>\n",
              "    </tr>\n",
              "  </tbody>\n",
              "</table>\n",
              "<p>150 rows × 6 columns</p>\n",
              "</div>"
            ],
            "text/plain": [
              "      Id  SepalLengthCm  SepalWidthCm  PetalLengthCm  PetalWidthCm  \\\n",
              "0      1            5.1           3.5            1.4           0.2   \n",
              "1      2            4.9           3.0            1.4           0.2   \n",
              "2      3            4.7           3.2            1.3           0.2   \n",
              "3      4            4.6           3.1            1.5           0.2   \n",
              "4      5            5.0           3.6            1.4           0.2   \n",
              "..   ...            ...           ...            ...           ...   \n",
              "145  146            6.7           3.0            5.2           2.3   \n",
              "146  147            6.3           2.5            5.0           1.9   \n",
              "147  148            6.5           3.0            5.2           2.0   \n",
              "148  149            6.2           3.4            5.4           2.3   \n",
              "149  150            5.9           3.0            5.1           1.8   \n",
              "\n",
              "            Species  \n",
              "0       Iris-setosa  \n",
              "1       Iris-setosa  \n",
              "2       Iris-setosa  \n",
              "3       Iris-setosa  \n",
              "4       Iris-setosa  \n",
              "..              ...  \n",
              "145  Iris-virginica  \n",
              "146  Iris-virginica  \n",
              "147  Iris-virginica  \n",
              "148  Iris-virginica  \n",
              "149  Iris-virginica  \n",
              "\n",
              "[150 rows x 6 columns]"
            ]
          },
          "metadata": {
            "tags": []
          },
          "execution_count": 3
        }
      ]
    },
    {
      "cell_type": "markdown",
      "metadata": {
        "id": "alike-pickup"
      },
      "source": [
        "# type of variables"
      ],
      "id": "alike-pickup"
    },
    {
      "cell_type": "code",
      "metadata": {
        "id": "regular-perspective",
        "outputId": "2b6ab124-62df-4f60-cf07-ac6b3fc0668d"
      },
      "source": [
        "df.dtypes"
      ],
      "id": "regular-perspective",
      "execution_count": null,
      "outputs": [
        {
          "output_type": "execute_result",
          "data": {
            "text/plain": [
              "Id                 int64\n",
              "SepalLengthCm    float64\n",
              "SepalWidthCm     float64\n",
              "PetalLengthCm    float64\n",
              "PetalWidthCm     float64\n",
              "Species           object\n",
              "dtype: object"
            ]
          },
          "metadata": {
            "tags": []
          },
          "execution_count": 13
        }
      ]
    },
    {
      "cell_type": "markdown",
      "metadata": {
        "id": "tamil-marina"
      },
      "source": [
        "# 1. Mean"
      ],
      "id": "tamil-marina"
    },
    {
      "cell_type": "markdown",
      "metadata": {
        "id": "offshore-cancer"
      },
      "source": [
        "## iris-setosa"
      ],
      "id": "offshore-cancer"
    },
    {
      "cell_type": "code",
      "metadata": {
        "id": "broad-joseph"
      },
      "source": [
        "setosa=df[df[\"Species\"]==\"Iris-setosa\"]"
      ],
      "id": "broad-joseph",
      "execution_count": null,
      "outputs": []
    },
    {
      "cell_type": "code",
      "metadata": {
        "id": "threatened-mounting",
        "outputId": "485e49cf-f965-4686-a477-ecbbbfb7ba0e"
      },
      "source": [
        "setosa.head()"
      ],
      "id": "threatened-mounting",
      "execution_count": null,
      "outputs": [
        {
          "output_type": "execute_result",
          "data": {
            "text/html": [
              "<div>\n",
              "<style scoped>\n",
              "    .dataframe tbody tr th:only-of-type {\n",
              "        vertical-align: middle;\n",
              "    }\n",
              "\n",
              "    .dataframe tbody tr th {\n",
              "        vertical-align: top;\n",
              "    }\n",
              "\n",
              "    .dataframe thead th {\n",
              "        text-align: right;\n",
              "    }\n",
              "</style>\n",
              "<table border=\"1\" class=\"dataframe\">\n",
              "  <thead>\n",
              "    <tr style=\"text-align: right;\">\n",
              "      <th></th>\n",
              "      <th>Id</th>\n",
              "      <th>SepalLengthCm</th>\n",
              "      <th>SepalWidthCm</th>\n",
              "      <th>PetalLengthCm</th>\n",
              "      <th>PetalWidthCm</th>\n",
              "      <th>Species</th>\n",
              "    </tr>\n",
              "  </thead>\n",
              "  <tbody>\n",
              "    <tr>\n",
              "      <th>0</th>\n",
              "      <td>1</td>\n",
              "      <td>5.1</td>\n",
              "      <td>3.5</td>\n",
              "      <td>1.4</td>\n",
              "      <td>0.2</td>\n",
              "      <td>Iris-setosa</td>\n",
              "    </tr>\n",
              "    <tr>\n",
              "      <th>1</th>\n",
              "      <td>2</td>\n",
              "      <td>4.9</td>\n",
              "      <td>3.0</td>\n",
              "      <td>1.4</td>\n",
              "      <td>0.2</td>\n",
              "      <td>Iris-setosa</td>\n",
              "    </tr>\n",
              "    <tr>\n",
              "      <th>2</th>\n",
              "      <td>3</td>\n",
              "      <td>4.7</td>\n",
              "      <td>3.2</td>\n",
              "      <td>1.3</td>\n",
              "      <td>0.2</td>\n",
              "      <td>Iris-setosa</td>\n",
              "    </tr>\n",
              "    <tr>\n",
              "      <th>3</th>\n",
              "      <td>4</td>\n",
              "      <td>4.6</td>\n",
              "      <td>3.1</td>\n",
              "      <td>1.5</td>\n",
              "      <td>0.2</td>\n",
              "      <td>Iris-setosa</td>\n",
              "    </tr>\n",
              "    <tr>\n",
              "      <th>4</th>\n",
              "      <td>5</td>\n",
              "      <td>5.0</td>\n",
              "      <td>3.6</td>\n",
              "      <td>1.4</td>\n",
              "      <td>0.2</td>\n",
              "      <td>Iris-setosa</td>\n",
              "    </tr>\n",
              "  </tbody>\n",
              "</table>\n",
              "</div>"
            ],
            "text/plain": [
              "   Id  SepalLengthCm  SepalWidthCm  PetalLengthCm  PetalWidthCm      Species\n",
              "0   1            5.1           3.5            1.4           0.2  Iris-setosa\n",
              "1   2            4.9           3.0            1.4           0.2  Iris-setosa\n",
              "2   3            4.7           3.2            1.3           0.2  Iris-setosa\n",
              "3   4            4.6           3.1            1.5           0.2  Iris-setosa\n",
              "4   5            5.0           3.6            1.4           0.2  Iris-setosa"
            ]
          },
          "metadata": {
            "tags": []
          },
          "execution_count": 20
        }
      ]
    },
    {
      "cell_type": "code",
      "metadata": {
        "id": "successful-equilibrium",
        "outputId": "945269d1-71f5-48e7-b373-2ec38c151995"
      },
      "source": [
        "setosa.mean()"
      ],
      "id": "successful-equilibrium",
      "execution_count": null,
      "outputs": [
        {
          "output_type": "execute_result",
          "data": {
            "text/plain": [
              "Id               25.500\n",
              "SepalLengthCm     5.006\n",
              "SepalWidthCm      3.418\n",
              "PetalLengthCm     1.464\n",
              "PetalWidthCm      0.244\n",
              "dtype: float64"
            ]
          },
          "metadata": {
            "tags": []
          },
          "execution_count": 14
        }
      ]
    },
    {
      "cell_type": "markdown",
      "metadata": {
        "id": "planned-sacramento"
      },
      "source": [
        "## Iris-virginica"
      ],
      "id": "planned-sacramento"
    },
    {
      "cell_type": "code",
      "metadata": {
        "id": "forced-southeast",
        "outputId": "1d3244ea-7dcc-41ba-cc85-a277e2b3c372"
      },
      "source": [
        "virginica=df[df[\"Species\"]==\"Iris-virginica\"]\n",
        "virginica.head()"
      ],
      "id": "forced-southeast",
      "execution_count": null,
      "outputs": [
        {
          "output_type": "execute_result",
          "data": {
            "text/html": [
              "<div>\n",
              "<style scoped>\n",
              "    .dataframe tbody tr th:only-of-type {\n",
              "        vertical-align: middle;\n",
              "    }\n",
              "\n",
              "    .dataframe tbody tr th {\n",
              "        vertical-align: top;\n",
              "    }\n",
              "\n",
              "    .dataframe thead th {\n",
              "        text-align: right;\n",
              "    }\n",
              "</style>\n",
              "<table border=\"1\" class=\"dataframe\">\n",
              "  <thead>\n",
              "    <tr style=\"text-align: right;\">\n",
              "      <th></th>\n",
              "      <th>Id</th>\n",
              "      <th>SepalLengthCm</th>\n",
              "      <th>SepalWidthCm</th>\n",
              "      <th>PetalLengthCm</th>\n",
              "      <th>PetalWidthCm</th>\n",
              "      <th>Species</th>\n",
              "    </tr>\n",
              "  </thead>\n",
              "  <tbody>\n",
              "    <tr>\n",
              "      <th>100</th>\n",
              "      <td>101</td>\n",
              "      <td>6.3</td>\n",
              "      <td>3.3</td>\n",
              "      <td>6.0</td>\n",
              "      <td>2.5</td>\n",
              "      <td>Iris-virginica</td>\n",
              "    </tr>\n",
              "    <tr>\n",
              "      <th>101</th>\n",
              "      <td>102</td>\n",
              "      <td>5.8</td>\n",
              "      <td>2.7</td>\n",
              "      <td>5.1</td>\n",
              "      <td>1.9</td>\n",
              "      <td>Iris-virginica</td>\n",
              "    </tr>\n",
              "    <tr>\n",
              "      <th>102</th>\n",
              "      <td>103</td>\n",
              "      <td>7.1</td>\n",
              "      <td>3.0</td>\n",
              "      <td>5.9</td>\n",
              "      <td>2.1</td>\n",
              "      <td>Iris-virginica</td>\n",
              "    </tr>\n",
              "    <tr>\n",
              "      <th>103</th>\n",
              "      <td>104</td>\n",
              "      <td>6.3</td>\n",
              "      <td>2.9</td>\n",
              "      <td>5.6</td>\n",
              "      <td>1.8</td>\n",
              "      <td>Iris-virginica</td>\n",
              "    </tr>\n",
              "    <tr>\n",
              "      <th>104</th>\n",
              "      <td>105</td>\n",
              "      <td>6.5</td>\n",
              "      <td>3.0</td>\n",
              "      <td>5.8</td>\n",
              "      <td>2.2</td>\n",
              "      <td>Iris-virginica</td>\n",
              "    </tr>\n",
              "  </tbody>\n",
              "</table>\n",
              "</div>"
            ],
            "text/plain": [
              "      Id  SepalLengthCm  SepalWidthCm  PetalLengthCm  PetalWidthCm  \\\n",
              "100  101            6.3           3.3            6.0           2.5   \n",
              "101  102            5.8           2.7            5.1           1.9   \n",
              "102  103            7.1           3.0            5.9           2.1   \n",
              "103  104            6.3           2.9            5.6           1.8   \n",
              "104  105            6.5           3.0            5.8           2.2   \n",
              "\n",
              "            Species  \n",
              "100  Iris-virginica  \n",
              "101  Iris-virginica  \n",
              "102  Iris-virginica  \n",
              "103  Iris-virginica  \n",
              "104  Iris-virginica  "
            ]
          },
          "metadata": {
            "tags": []
          },
          "execution_count": 23
        }
      ]
    },
    {
      "cell_type": "code",
      "metadata": {
        "id": "military-cartoon",
        "outputId": "ffa9ae2b-c129-4393-c15f-1234329f2916"
      },
      "source": [
        "virginica.mean()"
      ],
      "id": "military-cartoon",
      "execution_count": null,
      "outputs": [
        {
          "output_type": "execute_result",
          "data": {
            "text/plain": [
              "Id               125.500\n",
              "SepalLengthCm      6.588\n",
              "SepalWidthCm       2.974\n",
              "PetalLengthCm      5.552\n",
              "PetalWidthCm       2.026\n",
              "dtype: float64"
            ]
          },
          "metadata": {
            "tags": []
          },
          "execution_count": 24
        }
      ]
    },
    {
      "cell_type": "markdown",
      "metadata": {
        "id": "identical-teaching"
      },
      "source": [
        "## Iris-versicolor"
      ],
      "id": "identical-teaching"
    },
    {
      "cell_type": "code",
      "metadata": {
        "id": "nervous-price",
        "outputId": "06495c5f-0f41-45ae-a22c-1797f2d97751"
      },
      "source": [
        "versicolor=df[df[\"Species\"]==\"Iris-versicolor\"]\n",
        "versicolor.head()"
      ],
      "id": "nervous-price",
      "execution_count": null,
      "outputs": [
        {
          "output_type": "execute_result",
          "data": {
            "text/html": [
              "<div>\n",
              "<style scoped>\n",
              "    .dataframe tbody tr th:only-of-type {\n",
              "        vertical-align: middle;\n",
              "    }\n",
              "\n",
              "    .dataframe tbody tr th {\n",
              "        vertical-align: top;\n",
              "    }\n",
              "\n",
              "    .dataframe thead th {\n",
              "        text-align: right;\n",
              "    }\n",
              "</style>\n",
              "<table border=\"1\" class=\"dataframe\">\n",
              "  <thead>\n",
              "    <tr style=\"text-align: right;\">\n",
              "      <th></th>\n",
              "      <th>Id</th>\n",
              "      <th>SepalLengthCm</th>\n",
              "      <th>SepalWidthCm</th>\n",
              "      <th>PetalLengthCm</th>\n",
              "      <th>PetalWidthCm</th>\n",
              "      <th>Species</th>\n",
              "    </tr>\n",
              "  </thead>\n",
              "  <tbody>\n",
              "    <tr>\n",
              "      <th>50</th>\n",
              "      <td>51</td>\n",
              "      <td>7.0</td>\n",
              "      <td>3.2</td>\n",
              "      <td>4.7</td>\n",
              "      <td>1.4</td>\n",
              "      <td>Iris-versicolor</td>\n",
              "    </tr>\n",
              "    <tr>\n",
              "      <th>51</th>\n",
              "      <td>52</td>\n",
              "      <td>6.4</td>\n",
              "      <td>3.2</td>\n",
              "      <td>4.5</td>\n",
              "      <td>1.5</td>\n",
              "      <td>Iris-versicolor</td>\n",
              "    </tr>\n",
              "    <tr>\n",
              "      <th>52</th>\n",
              "      <td>53</td>\n",
              "      <td>6.9</td>\n",
              "      <td>3.1</td>\n",
              "      <td>4.9</td>\n",
              "      <td>1.5</td>\n",
              "      <td>Iris-versicolor</td>\n",
              "    </tr>\n",
              "    <tr>\n",
              "      <th>53</th>\n",
              "      <td>54</td>\n",
              "      <td>5.5</td>\n",
              "      <td>2.3</td>\n",
              "      <td>4.0</td>\n",
              "      <td>1.3</td>\n",
              "      <td>Iris-versicolor</td>\n",
              "    </tr>\n",
              "    <tr>\n",
              "      <th>54</th>\n",
              "      <td>55</td>\n",
              "      <td>6.5</td>\n",
              "      <td>2.8</td>\n",
              "      <td>4.6</td>\n",
              "      <td>1.5</td>\n",
              "      <td>Iris-versicolor</td>\n",
              "    </tr>\n",
              "  </tbody>\n",
              "</table>\n",
              "</div>"
            ],
            "text/plain": [
              "    Id  SepalLengthCm  SepalWidthCm  PetalLengthCm  PetalWidthCm  \\\n",
              "50  51            7.0           3.2            4.7           1.4   \n",
              "51  52            6.4           3.2            4.5           1.5   \n",
              "52  53            6.9           3.1            4.9           1.5   \n",
              "53  54            5.5           2.3            4.0           1.3   \n",
              "54  55            6.5           2.8            4.6           1.5   \n",
              "\n",
              "            Species  \n",
              "50  Iris-versicolor  \n",
              "51  Iris-versicolor  \n",
              "52  Iris-versicolor  \n",
              "53  Iris-versicolor  \n",
              "54  Iris-versicolor  "
            ]
          },
          "metadata": {
            "tags": []
          },
          "execution_count": 28
        }
      ]
    },
    {
      "cell_type": "code",
      "metadata": {
        "id": "micro-abuse",
        "outputId": "78ae7f09-06cd-42ff-c7db-0f95b36410be"
      },
      "source": [
        "versicolor.mean()"
      ],
      "id": "micro-abuse",
      "execution_count": null,
      "outputs": [
        {
          "output_type": "execute_result",
          "data": {
            "text/plain": [
              "Id               75.500\n",
              "SepalLengthCm     5.936\n",
              "SepalWidthCm      2.770\n",
              "PetalLengthCm     4.260\n",
              "PetalWidthCm      1.326\n",
              "dtype: float64"
            ]
          },
          "metadata": {
            "tags": []
          },
          "execution_count": 30
        }
      ]
    },
    {
      "cell_type": "markdown",
      "metadata": {
        "id": "honey-phoenix"
      },
      "source": [
        "# 2.Median"
      ],
      "id": "honey-phoenix"
    },
    {
      "cell_type": "markdown",
      "metadata": {
        "id": "hearing-invalid"
      },
      "source": [
        "## iris-setosa"
      ],
      "id": "hearing-invalid"
    },
    {
      "cell_type": "code",
      "metadata": {
        "id": "occasional-netherlands",
        "outputId": "08f0bc6f-ffde-4bc6-f0ea-4fabda10308b"
      },
      "source": [
        "setosa.median()"
      ],
      "id": "occasional-netherlands",
      "execution_count": null,
      "outputs": [
        {
          "output_type": "execute_result",
          "data": {
            "text/plain": [
              "Id               25.5\n",
              "SepalLengthCm     5.0\n",
              "SepalWidthCm      3.4\n",
              "PetalLengthCm     1.5\n",
              "PetalWidthCm      0.2\n",
              "dtype: float64"
            ]
          },
          "metadata": {
            "tags": []
          },
          "execution_count": 32
        }
      ]
    },
    {
      "cell_type": "markdown",
      "metadata": {
        "id": "charitable-joseph"
      },
      "source": [
        "## iris-versicolor\n"
      ],
      "id": "charitable-joseph"
    },
    {
      "cell_type": "code",
      "metadata": {
        "id": "french-major",
        "outputId": "9f6679c1-6938-466f-8d30-0f6175997303"
      },
      "source": [
        "versicolor.median()"
      ],
      "id": "french-major",
      "execution_count": null,
      "outputs": [
        {
          "output_type": "execute_result",
          "data": {
            "text/plain": [
              "Id               75.50\n",
              "SepalLengthCm     5.90\n",
              "SepalWidthCm      2.80\n",
              "PetalLengthCm     4.35\n",
              "PetalWidthCm      1.30\n",
              "dtype: float64"
            ]
          },
          "metadata": {
            "tags": []
          },
          "execution_count": 34
        }
      ]
    },
    {
      "cell_type": "markdown",
      "metadata": {
        "id": "improving-conspiracy"
      },
      "source": [
        "## iris-Virginica"
      ],
      "id": "improving-conspiracy"
    },
    {
      "cell_type": "code",
      "metadata": {
        "id": "herbal-jacket",
        "outputId": "dee3f27e-e3c4-44f9-abbd-e1d1bde81676"
      },
      "source": [
        "virginica.median()"
      ],
      "id": "herbal-jacket",
      "execution_count": null,
      "outputs": [
        {
          "output_type": "execute_result",
          "data": {
            "text/plain": [
              "Id               75.50\n",
              "SepalLengthCm     5.90\n",
              "SepalWidthCm      2.80\n",
              "PetalLengthCm     4.35\n",
              "PetalWidthCm      1.30\n",
              "dtype: float64"
            ]
          },
          "metadata": {
            "tags": []
          },
          "execution_count": 36
        }
      ]
    },
    {
      "cell_type": "markdown",
      "metadata": {
        "id": "paperback-possibility"
      },
      "source": [
        "# 3. Mode"
      ],
      "id": "paperback-possibility"
    },
    {
      "cell_type": "markdown",
      "metadata": {
        "id": "angry-smith"
      },
      "source": [
        "## iris-setosa"
      ],
      "id": "angry-smith"
    },
    {
      "cell_type": "code",
      "metadata": {
        "id": "physical-dancing",
        "outputId": "d4cca6ca-6c32-4b7c-bf1d-f038fd014966"
      },
      "source": [
        "setosa.mode().head()"
      ],
      "id": "physical-dancing",
      "execution_count": null,
      "outputs": [
        {
          "output_type": "execute_result",
          "data": {
            "text/html": [
              "<div>\n",
              "<style scoped>\n",
              "    .dataframe tbody tr th:only-of-type {\n",
              "        vertical-align: middle;\n",
              "    }\n",
              "\n",
              "    .dataframe tbody tr th {\n",
              "        vertical-align: top;\n",
              "    }\n",
              "\n",
              "    .dataframe thead th {\n",
              "        text-align: right;\n",
              "    }\n",
              "</style>\n",
              "<table border=\"1\" class=\"dataframe\">\n",
              "  <thead>\n",
              "    <tr style=\"text-align: right;\">\n",
              "      <th></th>\n",
              "      <th>Id</th>\n",
              "      <th>SepalLengthCm</th>\n",
              "      <th>SepalWidthCm</th>\n",
              "      <th>PetalLengthCm</th>\n",
              "      <th>PetalWidthCm</th>\n",
              "      <th>Species</th>\n",
              "    </tr>\n",
              "  </thead>\n",
              "  <tbody>\n",
              "    <tr>\n",
              "      <th>0</th>\n",
              "      <td>1</td>\n",
              "      <td>5.0</td>\n",
              "      <td>3.4</td>\n",
              "      <td>1.5</td>\n",
              "      <td>0.2</td>\n",
              "      <td>Iris-setosa</td>\n",
              "    </tr>\n",
              "    <tr>\n",
              "      <th>1</th>\n",
              "      <td>2</td>\n",
              "      <td>5.1</td>\n",
              "      <td>NaN</td>\n",
              "      <td>NaN</td>\n",
              "      <td>NaN</td>\n",
              "      <td>NaN</td>\n",
              "    </tr>\n",
              "    <tr>\n",
              "      <th>2</th>\n",
              "      <td>3</td>\n",
              "      <td>NaN</td>\n",
              "      <td>NaN</td>\n",
              "      <td>NaN</td>\n",
              "      <td>NaN</td>\n",
              "      <td>NaN</td>\n",
              "    </tr>\n",
              "    <tr>\n",
              "      <th>3</th>\n",
              "      <td>4</td>\n",
              "      <td>NaN</td>\n",
              "      <td>NaN</td>\n",
              "      <td>NaN</td>\n",
              "      <td>NaN</td>\n",
              "      <td>NaN</td>\n",
              "    </tr>\n",
              "    <tr>\n",
              "      <th>4</th>\n",
              "      <td>5</td>\n",
              "      <td>NaN</td>\n",
              "      <td>NaN</td>\n",
              "      <td>NaN</td>\n",
              "      <td>NaN</td>\n",
              "      <td>NaN</td>\n",
              "    </tr>\n",
              "  </tbody>\n",
              "</table>\n",
              "</div>"
            ],
            "text/plain": [
              "   Id  SepalLengthCm  SepalWidthCm  PetalLengthCm  PetalWidthCm      Species\n",
              "0   1            5.0           3.4            1.5           0.2  Iris-setosa\n",
              "1   2            5.1           NaN            NaN           NaN          NaN\n",
              "2   3            NaN           NaN            NaN           NaN          NaN\n",
              "3   4            NaN           NaN            NaN           NaN          NaN\n",
              "4   5            NaN           NaN            NaN           NaN          NaN"
            ]
          },
          "metadata": {
            "tags": []
          },
          "execution_count": 47
        }
      ]
    },
    {
      "cell_type": "markdown",
      "metadata": {
        "id": "ancient-complexity"
      },
      "source": [
        "## iris-virginica\n"
      ],
      "id": "ancient-complexity"
    },
    {
      "cell_type": "code",
      "metadata": {
        "id": "naked-nudist",
        "outputId": "82a37d7a-c3e8-4b9b-bda1-5f6a76a88701"
      },
      "source": [
        "virginica.mode().head()"
      ],
      "id": "naked-nudist",
      "execution_count": null,
      "outputs": [
        {
          "output_type": "execute_result",
          "data": {
            "text/html": [
              "<div>\n",
              "<style scoped>\n",
              "    .dataframe tbody tr th:only-of-type {\n",
              "        vertical-align: middle;\n",
              "    }\n",
              "\n",
              "    .dataframe tbody tr th {\n",
              "        vertical-align: top;\n",
              "    }\n",
              "\n",
              "    .dataframe thead th {\n",
              "        text-align: right;\n",
              "    }\n",
              "</style>\n",
              "<table border=\"1\" class=\"dataframe\">\n",
              "  <thead>\n",
              "    <tr style=\"text-align: right;\">\n",
              "      <th></th>\n",
              "      <th>Id</th>\n",
              "      <th>SepalLengthCm</th>\n",
              "      <th>SepalWidthCm</th>\n",
              "      <th>PetalLengthCm</th>\n",
              "      <th>PetalWidthCm</th>\n",
              "      <th>Species</th>\n",
              "    </tr>\n",
              "  </thead>\n",
              "  <tbody>\n",
              "    <tr>\n",
              "      <th>0</th>\n",
              "      <td>51</td>\n",
              "      <td>5.5</td>\n",
              "      <td>3.0</td>\n",
              "      <td>4.5</td>\n",
              "      <td>1.3</td>\n",
              "      <td>Iris-versicolor</td>\n",
              "    </tr>\n",
              "    <tr>\n",
              "      <th>1</th>\n",
              "      <td>52</td>\n",
              "      <td>5.6</td>\n",
              "      <td>NaN</td>\n",
              "      <td>NaN</td>\n",
              "      <td>NaN</td>\n",
              "      <td>NaN</td>\n",
              "    </tr>\n",
              "    <tr>\n",
              "      <th>2</th>\n",
              "      <td>53</td>\n",
              "      <td>5.7</td>\n",
              "      <td>NaN</td>\n",
              "      <td>NaN</td>\n",
              "      <td>NaN</td>\n",
              "      <td>NaN</td>\n",
              "    </tr>\n",
              "    <tr>\n",
              "      <th>3</th>\n",
              "      <td>54</td>\n",
              "      <td>NaN</td>\n",
              "      <td>NaN</td>\n",
              "      <td>NaN</td>\n",
              "      <td>NaN</td>\n",
              "      <td>NaN</td>\n",
              "    </tr>\n",
              "    <tr>\n",
              "      <th>4</th>\n",
              "      <td>55</td>\n",
              "      <td>NaN</td>\n",
              "      <td>NaN</td>\n",
              "      <td>NaN</td>\n",
              "      <td>NaN</td>\n",
              "      <td>NaN</td>\n",
              "    </tr>\n",
              "  </tbody>\n",
              "</table>\n",
              "</div>"
            ],
            "text/plain": [
              "   Id  SepalLengthCm  SepalWidthCm  PetalLengthCm  PetalWidthCm  \\\n",
              "0  51            5.5           3.0            4.5           1.3   \n",
              "1  52            5.6           NaN            NaN           NaN   \n",
              "2  53            5.7           NaN            NaN           NaN   \n",
              "3  54            NaN           NaN            NaN           NaN   \n",
              "4  55            NaN           NaN            NaN           NaN   \n",
              "\n",
              "           Species  \n",
              "0  Iris-versicolor  \n",
              "1              NaN  \n",
              "2              NaN  \n",
              "3              NaN  \n",
              "4              NaN  "
            ]
          },
          "metadata": {
            "tags": []
          },
          "execution_count": 49
        }
      ]
    },
    {
      "cell_type": "markdown",
      "metadata": {
        "id": "northern-carbon"
      },
      "source": [
        "## iris-versicolor"
      ],
      "id": "northern-carbon"
    },
    {
      "cell_type": "code",
      "metadata": {
        "id": "starting-cooler",
        "outputId": "c0defc33-d296-409e-83c9-69d4508f8d1b"
      },
      "source": [
        "versicolor.mode().head()"
      ],
      "id": "starting-cooler",
      "execution_count": null,
      "outputs": [
        {
          "output_type": "execute_result",
          "data": {
            "text/html": [
              "<div>\n",
              "<style scoped>\n",
              "    .dataframe tbody tr th:only-of-type {\n",
              "        vertical-align: middle;\n",
              "    }\n",
              "\n",
              "    .dataframe tbody tr th {\n",
              "        vertical-align: top;\n",
              "    }\n",
              "\n",
              "    .dataframe thead th {\n",
              "        text-align: right;\n",
              "    }\n",
              "</style>\n",
              "<table border=\"1\" class=\"dataframe\">\n",
              "  <thead>\n",
              "    <tr style=\"text-align: right;\">\n",
              "      <th></th>\n",
              "      <th>Id</th>\n",
              "      <th>SepalLengthCm</th>\n",
              "      <th>SepalWidthCm</th>\n",
              "      <th>PetalLengthCm</th>\n",
              "      <th>PetalWidthCm</th>\n",
              "      <th>Species</th>\n",
              "    </tr>\n",
              "  </thead>\n",
              "  <tbody>\n",
              "    <tr>\n",
              "      <th>0</th>\n",
              "      <td>51</td>\n",
              "      <td>5.5</td>\n",
              "      <td>3.0</td>\n",
              "      <td>4.5</td>\n",
              "      <td>1.3</td>\n",
              "      <td>Iris-versicolor</td>\n",
              "    </tr>\n",
              "    <tr>\n",
              "      <th>1</th>\n",
              "      <td>52</td>\n",
              "      <td>5.6</td>\n",
              "      <td>NaN</td>\n",
              "      <td>NaN</td>\n",
              "      <td>NaN</td>\n",
              "      <td>NaN</td>\n",
              "    </tr>\n",
              "    <tr>\n",
              "      <th>2</th>\n",
              "      <td>53</td>\n",
              "      <td>5.7</td>\n",
              "      <td>NaN</td>\n",
              "      <td>NaN</td>\n",
              "      <td>NaN</td>\n",
              "      <td>NaN</td>\n",
              "    </tr>\n",
              "    <tr>\n",
              "      <th>3</th>\n",
              "      <td>54</td>\n",
              "      <td>NaN</td>\n",
              "      <td>NaN</td>\n",
              "      <td>NaN</td>\n",
              "      <td>NaN</td>\n",
              "      <td>NaN</td>\n",
              "    </tr>\n",
              "    <tr>\n",
              "      <th>4</th>\n",
              "      <td>55</td>\n",
              "      <td>NaN</td>\n",
              "      <td>NaN</td>\n",
              "      <td>NaN</td>\n",
              "      <td>NaN</td>\n",
              "      <td>NaN</td>\n",
              "    </tr>\n",
              "  </tbody>\n",
              "</table>\n",
              "</div>"
            ],
            "text/plain": [
              "   Id  SepalLengthCm  SepalWidthCm  PetalLengthCm  PetalWidthCm  \\\n",
              "0  51            5.5           3.0            4.5           1.3   \n",
              "1  52            5.6           NaN            NaN           NaN   \n",
              "2  53            5.7           NaN            NaN           NaN   \n",
              "3  54            NaN           NaN            NaN           NaN   \n",
              "4  55            NaN           NaN            NaN           NaN   \n",
              "\n",
              "           Species  \n",
              "0  Iris-versicolor  \n",
              "1              NaN  \n",
              "2              NaN  \n",
              "3              NaN  \n",
              "4              NaN  "
            ]
          },
          "metadata": {
            "tags": []
          },
          "execution_count": 51
        }
      ]
    },
    {
      "cell_type": "markdown",
      "metadata": {
        "id": "requested-johnston"
      },
      "source": [
        "# 4. Quartile 1 & 3"
      ],
      "id": "requested-johnston"
    },
    {
      "cell_type": "markdown",
      "metadata": {
        "id": "earlier-legislature"
      },
      "source": [
        "## iris-setosa"
      ],
      "id": "earlier-legislature"
    },
    {
      "cell_type": "code",
      "metadata": {
        "id": "mathematical-academy",
        "outputId": "c52fc5c0-63af-40cb-e73a-7a9b32da0ad2"
      },
      "source": [
        "setosa.quantile([0.25,0.75])"
      ],
      "id": "mathematical-academy",
      "execution_count": null,
      "outputs": [
        {
          "output_type": "execute_result",
          "data": {
            "text/html": [
              "<div>\n",
              "<style scoped>\n",
              "    .dataframe tbody tr th:only-of-type {\n",
              "        vertical-align: middle;\n",
              "    }\n",
              "\n",
              "    .dataframe tbody tr th {\n",
              "        vertical-align: top;\n",
              "    }\n",
              "\n",
              "    .dataframe thead th {\n",
              "        text-align: right;\n",
              "    }\n",
              "</style>\n",
              "<table border=\"1\" class=\"dataframe\">\n",
              "  <thead>\n",
              "    <tr style=\"text-align: right;\">\n",
              "      <th></th>\n",
              "      <th>Id</th>\n",
              "      <th>SepalLengthCm</th>\n",
              "      <th>SepalWidthCm</th>\n",
              "      <th>PetalLengthCm</th>\n",
              "      <th>PetalWidthCm</th>\n",
              "    </tr>\n",
              "  </thead>\n",
              "  <tbody>\n",
              "    <tr>\n",
              "      <th>0.25</th>\n",
              "      <td>13.25</td>\n",
              "      <td>4.8</td>\n",
              "      <td>3.125</td>\n",
              "      <td>1.400</td>\n",
              "      <td>0.2</td>\n",
              "    </tr>\n",
              "    <tr>\n",
              "      <th>0.75</th>\n",
              "      <td>37.75</td>\n",
              "      <td>5.2</td>\n",
              "      <td>3.675</td>\n",
              "      <td>1.575</td>\n",
              "      <td>0.3</td>\n",
              "    </tr>\n",
              "  </tbody>\n",
              "</table>\n",
              "</div>"
            ],
            "text/plain": [
              "         Id  SepalLengthCm  SepalWidthCm  PetalLengthCm  PetalWidthCm\n",
              "0.25  13.25            4.8         3.125          1.400           0.2\n",
              "0.75  37.75            5.2         3.675          1.575           0.3"
            ]
          },
          "metadata": {
            "tags": []
          },
          "execution_count": 53
        }
      ]
    },
    {
      "cell_type": "markdown",
      "metadata": {
        "id": "abstract-brazil"
      },
      "source": [
        "## iris-virginica"
      ],
      "id": "abstract-brazil"
    },
    {
      "cell_type": "code",
      "metadata": {
        "id": "crucial-addition",
        "outputId": "d663716e-2d45-4c87-a019-6a01e64b536e"
      },
      "source": [
        "virginica.quantile([0.25,0.75])"
      ],
      "id": "crucial-addition",
      "execution_count": null,
      "outputs": [
        {
          "output_type": "execute_result",
          "data": {
            "text/html": [
              "<div>\n",
              "<style scoped>\n",
              "    .dataframe tbody tr th:only-of-type {\n",
              "        vertical-align: middle;\n",
              "    }\n",
              "\n",
              "    .dataframe tbody tr th {\n",
              "        vertical-align: top;\n",
              "    }\n",
              "\n",
              "    .dataframe thead th {\n",
              "        text-align: right;\n",
              "    }\n",
              "</style>\n",
              "<table border=\"1\" class=\"dataframe\">\n",
              "  <thead>\n",
              "    <tr style=\"text-align: right;\">\n",
              "      <th></th>\n",
              "      <th>Id</th>\n",
              "      <th>SepalLengthCm</th>\n",
              "      <th>SepalWidthCm</th>\n",
              "      <th>PetalLengthCm</th>\n",
              "      <th>PetalWidthCm</th>\n",
              "    </tr>\n",
              "  </thead>\n",
              "  <tbody>\n",
              "    <tr>\n",
              "      <th>0.25</th>\n",
              "      <td>63.25</td>\n",
              "      <td>5.6</td>\n",
              "      <td>2.525</td>\n",
              "      <td>4.0</td>\n",
              "      <td>1.2</td>\n",
              "    </tr>\n",
              "    <tr>\n",
              "      <th>0.75</th>\n",
              "      <td>87.75</td>\n",
              "      <td>6.3</td>\n",
              "      <td>3.000</td>\n",
              "      <td>4.6</td>\n",
              "      <td>1.5</td>\n",
              "    </tr>\n",
              "  </tbody>\n",
              "</table>\n",
              "</div>"
            ],
            "text/plain": [
              "         Id  SepalLengthCm  SepalWidthCm  PetalLengthCm  PetalWidthCm\n",
              "0.25  63.25            5.6         2.525            4.0           1.2\n",
              "0.75  87.75            6.3         3.000            4.6           1.5"
            ]
          },
          "metadata": {
            "tags": []
          },
          "execution_count": 54
        }
      ]
    },
    {
      "cell_type": "markdown",
      "metadata": {
        "id": "purple-sleeve"
      },
      "source": [
        "## iris-versicolor"
      ],
      "id": "purple-sleeve"
    },
    {
      "cell_type": "code",
      "metadata": {
        "id": "starting-court",
        "outputId": "d1c9ff02-040b-42d3-8b70-af48db0980e9"
      },
      "source": [
        "versicolor.quantile([0.25,0.75])"
      ],
      "id": "starting-court",
      "execution_count": null,
      "outputs": [
        {
          "output_type": "execute_result",
          "data": {
            "text/html": [
              "<div>\n",
              "<style scoped>\n",
              "    .dataframe tbody tr th:only-of-type {\n",
              "        vertical-align: middle;\n",
              "    }\n",
              "\n",
              "    .dataframe tbody tr th {\n",
              "        vertical-align: top;\n",
              "    }\n",
              "\n",
              "    .dataframe thead th {\n",
              "        text-align: right;\n",
              "    }\n",
              "</style>\n",
              "<table border=\"1\" class=\"dataframe\">\n",
              "  <thead>\n",
              "    <tr style=\"text-align: right;\">\n",
              "      <th></th>\n",
              "      <th>Id</th>\n",
              "      <th>SepalLengthCm</th>\n",
              "      <th>SepalWidthCm</th>\n",
              "      <th>PetalLengthCm</th>\n",
              "      <th>PetalWidthCm</th>\n",
              "    </tr>\n",
              "  </thead>\n",
              "  <tbody>\n",
              "    <tr>\n",
              "      <th>0.25</th>\n",
              "      <td>63.25</td>\n",
              "      <td>5.6</td>\n",
              "      <td>2.525</td>\n",
              "      <td>4.0</td>\n",
              "      <td>1.2</td>\n",
              "    </tr>\n",
              "    <tr>\n",
              "      <th>0.75</th>\n",
              "      <td>87.75</td>\n",
              "      <td>6.3</td>\n",
              "      <td>3.000</td>\n",
              "      <td>4.6</td>\n",
              "      <td>1.5</td>\n",
              "    </tr>\n",
              "  </tbody>\n",
              "</table>\n",
              "</div>"
            ],
            "text/plain": [
              "         Id  SepalLengthCm  SepalWidthCm  PetalLengthCm  PetalWidthCm\n",
              "0.25  63.25            5.6         2.525            4.0           1.2\n",
              "0.75  87.75            6.3         3.000            4.6           1.5"
            ]
          },
          "metadata": {
            "tags": []
          },
          "execution_count": 55
        }
      ]
    },
    {
      "cell_type": "markdown",
      "metadata": {
        "id": "caring-relations"
      },
      "source": [
        "# 5.Percentile 90, 99"
      ],
      "id": "caring-relations"
    },
    {
      "cell_type": "markdown",
      "metadata": {
        "id": "global-module"
      },
      "source": [
        "## iris-setosa\n"
      ],
      "id": "global-module"
    },
    {
      "cell_type": "code",
      "metadata": {
        "id": "eight-valley",
        "outputId": "38de88a7-2684-48cb-817d-f8b7f8ea2f91"
      },
      "source": [
        "setosa.quantile([0.9,0.99])"
      ],
      "id": "eight-valley",
      "execution_count": null,
      "outputs": [
        {
          "output_type": "execute_result",
          "data": {
            "text/html": [
              "<div>\n",
              "<style scoped>\n",
              "    .dataframe tbody tr th:only-of-type {\n",
              "        vertical-align: middle;\n",
              "    }\n",
              "\n",
              "    .dataframe tbody tr th {\n",
              "        vertical-align: top;\n",
              "    }\n",
              "\n",
              "    .dataframe thead th {\n",
              "        text-align: right;\n",
              "    }\n",
              "</style>\n",
              "<table border=\"1\" class=\"dataframe\">\n",
              "  <thead>\n",
              "    <tr style=\"text-align: right;\">\n",
              "      <th></th>\n",
              "      <th>Id</th>\n",
              "      <th>SepalLengthCm</th>\n",
              "      <th>SepalWidthCm</th>\n",
              "      <th>PetalLengthCm</th>\n",
              "      <th>PetalWidthCm</th>\n",
              "    </tr>\n",
              "  </thead>\n",
              "  <tbody>\n",
              "    <tr>\n",
              "      <th>0.90</th>\n",
              "      <td>45.10</td>\n",
              "      <td>5.410</td>\n",
              "      <td>3.900</td>\n",
              "      <td>1.7</td>\n",
              "      <td>0.400</td>\n",
              "    </tr>\n",
              "    <tr>\n",
              "      <th>0.99</th>\n",
              "      <td>49.51</td>\n",
              "      <td>5.751</td>\n",
              "      <td>4.302</td>\n",
              "      <td>1.9</td>\n",
              "      <td>0.551</td>\n",
              "    </tr>\n",
              "  </tbody>\n",
              "</table>\n",
              "</div>"
            ],
            "text/plain": [
              "         Id  SepalLengthCm  SepalWidthCm  PetalLengthCm  PetalWidthCm\n",
              "0.90  45.10          5.410         3.900            1.7         0.400\n",
              "0.99  49.51          5.751         4.302            1.9         0.551"
            ]
          },
          "metadata": {
            "tags": []
          },
          "execution_count": 56
        }
      ]
    },
    {
      "cell_type": "markdown",
      "metadata": {
        "id": "professional-consent"
      },
      "source": [
        "## iris-virginica\n"
      ],
      "id": "professional-consent"
    },
    {
      "cell_type": "code",
      "metadata": {
        "id": "supreme-lawyer",
        "outputId": "1b50984c-51c8-47a4-8266-bb002fda50e6"
      },
      "source": [
        "virginica.quantile([0.9,0.99])"
      ],
      "id": "supreme-lawyer",
      "execution_count": null,
      "outputs": [
        {
          "output_type": "execute_result",
          "data": {
            "text/html": [
              "<div>\n",
              "<style scoped>\n",
              "    .dataframe tbody tr th:only-of-type {\n",
              "        vertical-align: middle;\n",
              "    }\n",
              "\n",
              "    .dataframe tbody tr th {\n",
              "        vertical-align: top;\n",
              "    }\n",
              "\n",
              "    .dataframe thead th {\n",
              "        text-align: right;\n",
              "    }\n",
              "</style>\n",
              "<table border=\"1\" class=\"dataframe\">\n",
              "  <thead>\n",
              "    <tr style=\"text-align: right;\">\n",
              "      <th></th>\n",
              "      <th>Id</th>\n",
              "      <th>SepalLengthCm</th>\n",
              "      <th>SepalWidthCm</th>\n",
              "      <th>PetalLengthCm</th>\n",
              "      <th>PetalWidthCm</th>\n",
              "    </tr>\n",
              "  </thead>\n",
              "  <tbody>\n",
              "    <tr>\n",
              "      <th>0.90</th>\n",
              "      <td>95.10</td>\n",
              "      <td>6.700</td>\n",
              "      <td>3.110</td>\n",
              "      <td>4.800</td>\n",
              "      <td>1.510</td>\n",
              "    </tr>\n",
              "    <tr>\n",
              "      <th>0.99</th>\n",
              "      <td>99.51</td>\n",
              "      <td>6.951</td>\n",
              "      <td>3.351</td>\n",
              "      <td>5.051</td>\n",
              "      <td>1.751</td>\n",
              "    </tr>\n",
              "  </tbody>\n",
              "</table>\n",
              "</div>"
            ],
            "text/plain": [
              "         Id  SepalLengthCm  SepalWidthCm  PetalLengthCm  PetalWidthCm\n",
              "0.90  95.10          6.700         3.110          4.800         1.510\n",
              "0.99  99.51          6.951         3.351          5.051         1.751"
            ]
          },
          "metadata": {
            "tags": []
          },
          "execution_count": 57
        }
      ]
    },
    {
      "cell_type": "markdown",
      "metadata": {
        "id": "operational-graphic"
      },
      "source": [
        "## iris-versicolor"
      ],
      "id": "operational-graphic"
    },
    {
      "cell_type": "code",
      "metadata": {
        "id": "durable-income",
        "outputId": "883178b4-c784-4202-b24b-b6686988b614"
      },
      "source": [
        "versicolor.quantile([0.9,0.99])"
      ],
      "id": "durable-income",
      "execution_count": null,
      "outputs": [
        {
          "output_type": "execute_result",
          "data": {
            "text/html": [
              "<div>\n",
              "<style scoped>\n",
              "    .dataframe tbody tr th:only-of-type {\n",
              "        vertical-align: middle;\n",
              "    }\n",
              "\n",
              "    .dataframe tbody tr th {\n",
              "        vertical-align: top;\n",
              "    }\n",
              "\n",
              "    .dataframe thead th {\n",
              "        text-align: right;\n",
              "    }\n",
              "</style>\n",
              "<table border=\"1\" class=\"dataframe\">\n",
              "  <thead>\n",
              "    <tr style=\"text-align: right;\">\n",
              "      <th></th>\n",
              "      <th>Id</th>\n",
              "      <th>SepalLengthCm</th>\n",
              "      <th>SepalWidthCm</th>\n",
              "      <th>PetalLengthCm</th>\n",
              "      <th>PetalWidthCm</th>\n",
              "    </tr>\n",
              "  </thead>\n",
              "  <tbody>\n",
              "    <tr>\n",
              "      <th>0.90</th>\n",
              "      <td>95.10</td>\n",
              "      <td>6.700</td>\n",
              "      <td>3.110</td>\n",
              "      <td>4.800</td>\n",
              "      <td>1.510</td>\n",
              "    </tr>\n",
              "    <tr>\n",
              "      <th>0.99</th>\n",
              "      <td>99.51</td>\n",
              "      <td>6.951</td>\n",
              "      <td>3.351</td>\n",
              "      <td>5.051</td>\n",
              "      <td>1.751</td>\n",
              "    </tr>\n",
              "  </tbody>\n",
              "</table>\n",
              "</div>"
            ],
            "text/plain": [
              "         Id  SepalLengthCm  SepalWidthCm  PetalLengthCm  PetalWidthCm\n",
              "0.90  95.10          6.700         3.110          4.800         1.510\n",
              "0.99  99.51          6.951         3.351          5.051         1.751"
            ]
          },
          "metadata": {
            "tags": []
          },
          "execution_count": 58
        }
      ]
    },
    {
      "cell_type": "markdown",
      "metadata": {
        "id": "bearing-marine"
      },
      "source": [
        "# 6.Histogram"
      ],
      "id": "bearing-marine"
    },
    {
      "cell_type": "markdown",
      "metadata": {
        "id": "adolescent-baltimore"
      },
      "source": [
        "## iris-setosa"
      ],
      "id": "adolescent-baltimore"
    },
    {
      "cell_type": "code",
      "metadata": {
        "id": "forced-ballot",
        "outputId": "40c65196-6387-4254-d32d-85a156a38ade"
      },
      "source": [
        "#SepalLength\n",
        "plt.hist(setosa['SepalLengthCm'])\n",
        "\n",
        "plt.show() \n"
      ],
      "id": "forced-ballot",
      "execution_count": null,
      "outputs": [
        {
          "output_type": "display_data",
          "data": {
            "image/png": "[encoded data removed]",
            "text/plain": [
              "<Figure size 432x288 with 1 Axes>"
            ]
          },
          "metadata": {
            "tags": [],
            "needs_background": "light"
          }
        }
      ]
    },
    {
      "cell_type": "code",
      "metadata": {
        "id": "threaded-president",
        "outputId": "627aea93-9d50-4515-c146-280e26923824"
      },
      "source": [
        "#SepalWidth\n",
        "plt.hist(setosa['SepalWidthCm'])\n",
        "\n",
        "plt.show()"
      ],
      "id": "threaded-president",
      "execution_count": null,
      "outputs": [
        {
          "output_type": "display_data",
          "data": {
            "image/png": "[encoded data removed]",
            "text/plain": [
              "<Figure size 432x288 with 1 Axes>"
            ]
          },
          "metadata": {
            "tags": [],
            "needs_background": "light"
          }
        }
      ]
    },
    {
      "cell_type": "code",
      "metadata": {
        "id": "operational-blond",
        "outputId": "fc3bc912-201a-46a2-81f5-91ab8511b9a4"
      },
      "source": [
        "#PetalLength\n",
        "plt.hist(setosa['PetalLengthCm'])\n",
        "\n",
        "plt.show()"
      ],
      "id": "operational-blond",
      "execution_count": null,
      "outputs": [
        {
          "output_type": "display_data",
          "data": {
            "image/png": "[encoded data removed]",
            "text/plain": [
              "<Figure size 432x288 with 1 Axes>"
            ]
          },
          "metadata": {
            "tags": [],
            "needs_background": "light"
          }
        }
      ]
    },
    {
      "cell_type": "code",
      "metadata": {
        "id": "european-sullivan",
        "outputId": "d2204760-05a7-4c95-d46b-49bd8519e9fd"
      },
      "source": [
        "#PetalWidth\n",
        "plt.hist(setosa['PetalWidthCm'])\n",
        "\n",
        "plt.show()"
      ],
      "id": "european-sullivan",
      "execution_count": null,
      "outputs": [
        {
          "output_type": "display_data",
          "data": {
            "image/png": "[encoded data removed]",
            "text/plain": [
              "<Figure size 432x288 with 1 Axes>"
            ]
          },
          "metadata": {
            "tags": [],
            "needs_background": "light"
          }
        }
      ]
    },
    {
      "cell_type": "markdown",
      "metadata": {
        "id": "reduced-smoke"
      },
      "source": [
        "## iris-virginica"
      ],
      "id": "reduced-smoke"
    },
    {
      "cell_type": "code",
      "metadata": {
        "id": "weird-relaxation",
        "outputId": "01b0ace6-8d18-47d1-fd57-2f81010f24e1"
      },
      "source": [
        "#SepalLength\n",
        "plt.hist(virginica['SepalLengthCm'])\n",
        "\n",
        "plt.show() "
      ],
      "id": "weird-relaxation",
      "execution_count": null,
      "outputs": [
        {
          "output_type": "display_data",
          "data": {
            "image/png": "[encoded data removed]",
            "text/plain": [
              "<Figure size 432x288 with 1 Axes>"
            ]
          },
          "metadata": {
            "tags": [],
            "needs_background": "light"
          }
        }
      ]
    },
    {
      "cell_type": "code",
      "metadata": {
        "id": "general-challenge",
        "outputId": "131f7949-b894-41a7-a11c-f82f4d1f56a7"
      },
      "source": [
        "#SepalWidth\n",
        "plt.hist(virginica['SepalWidthCm'])\n",
        "\n",
        "plt.show() "
      ],
      "id": "general-challenge",
      "execution_count": null,
      "outputs": [
        {
          "output_type": "display_data",
          "data": {
            "image/png": "[encoded data removed]",
            "text/plain": [
              "<Figure size 432x288 with 1 Axes>"
            ]
          },
          "metadata": {
            "tags": [],
            "needs_background": "light"
          }
        }
      ]
    },
    {
      "cell_type": "code",
      "metadata": {
        "id": "opponent-pressure",
        "outputId": "f43bbff8-b7bd-4cf0-cf76-5154ed67b118"
      },
      "source": [
        "#PetalLength\n",
        "plt.hist(virginica['PetalLengthCm'])\n",
        "\n",
        "plt.show()"
      ],
      "id": "opponent-pressure",
      "execution_count": null,
      "outputs": [
        {
          "output_type": "display_data",
          "data": {
            "image/png": "[encoded data removed]",
            "text/plain": [
              "<Figure size 432x288 with 1 Axes>"
            ]
          },
          "metadata": {
            "tags": [],
            "needs_background": "light"
          }
        }
      ]
    },
    {
      "cell_type": "code",
      "metadata": {
        "id": "intense-fence",
        "outputId": "4f57391f-22c7-4635-abbe-642b6d3cd69a"
      },
      "source": [
        "#PetalWidth\n",
        "plt.hist(virginica['PetalWidthCm'])\n",
        "\n",
        "plt.show()"
      ],
      "id": "intense-fence",
      "execution_count": null,
      "outputs": [
        {
          "output_type": "display_data",
          "data": {
            "image/png": "[encoded data removed]",
            "text/plain": [
              "<Figure size 432x288 with 1 Axes>"
            ]
          },
          "metadata": {
            "tags": [],
            "needs_background": "light"
          }
        }
      ]
    },
    {
      "cell_type": "markdown",
      "metadata": {
        "id": "noticed-cliff"
      },
      "source": [
        "## iris-versicolor"
      ],
      "id": "noticed-cliff"
    },
    {
      "cell_type": "code",
      "metadata": {
        "id": "powered-angel",
        "outputId": "1971a8db-5248-4d7c-c24b-01e08e1ae70b"
      },
      "source": [
        "#SepalLength\n",
        "plt.hist(versicolor['SepalLengthCm'])\n",
        "\n",
        "plt.show() "
      ],
      "id": "powered-angel",
      "execution_count": null,
      "outputs": [
        {
          "output_type": "display_data",
          "data": {
            "image/png": "[encoded data removed]",
            "text/plain": [
              "<Figure size 432x288 with 1 Axes>"
            ]
          },
          "metadata": {
            "tags": [],
            "needs_background": "light"
          }
        }
      ]
    },
    {
      "cell_type": "code",
      "metadata": {
        "id": "selected-bulgaria",
        "outputId": "1c3ed278-3c1f-4dc8-f640-5f8aba6781b3"
      },
      "source": [
        "#SepalWidth\n",
        "plt.hist(versicolor['SepalWidthCm'])\n",
        "\n",
        "plt.show() "
      ],
      "id": "selected-bulgaria",
      "execution_count": null,
      "outputs": [
        {
          "output_type": "display_data",
          "data": {
            "image/png": "[encoded data removed]",
            "text/plain": [
              "<Figure size 432x288 with 1 Axes>"
            ]
          },
          "metadata": {
            "tags": [],
            "needs_background": "light"
          }
        }
      ]
    },
    {
      "cell_type": "code",
      "metadata": {
        "id": "measured-attachment",
        "outputId": "0271009e-1672-4270-cc77-3e0aacdefbe6"
      },
      "source": [
        "#PetalLength\n",
        "plt.hist(versicolor['PetalLengthCm'])\n",
        "\n",
        "plt.show()"
      ],
      "id": "measured-attachment",
      "execution_count": null,
      "outputs": [
        {
          "output_type": "display_data",
          "data": {
            "image/png": "[encoded data removed]",
            "text/plain": [
              "<Figure size 432x288 with 1 Axes>"
            ]
          },
          "metadata": {
            "tags": [],
            "needs_background": "light"
          }
        }
      ]
    },
    {
      "cell_type": "code",
      "metadata": {
        "id": "creative-cycle",
        "outputId": "a0dc9eda-5022-4423-b2f4-a1d37a32fceb"
      },
      "source": [
        "#PetalWidth\n",
        "plt.hist(versicolor['PetalWidthCm'])\n",
        "\n",
        "plt.show()"
      ],
      "id": "creative-cycle",
      "execution_count": null,
      "outputs": [
        {
          "output_type": "display_data",
          "data": {
            "image/png": "[encoded data removed]",
            "text/plain": [
              "<Figure size 432x288 with 1 Axes>"
            ]
          },
          "metadata": {
            "tags": [],
            "needs_background": "light"
          }
        }
      ]
    },
    {
      "cell_type": "markdown",
      "metadata": {
        "id": "miniature-republic"
      },
      "source": [
        "# 7. Calculate coefficient correlation between numerical col|umn"
      ],
      "id": "miniature-republic"
    },
    {
      "cell_type": "markdown",
      "metadata": {
        "id": "great-signature"
      },
      "source": [
        "## Setosa SepalLength x Versicolor SepalLength"
      ],
      "id": "great-signature"
    },
    {
      "cell_type": "code",
      "metadata": {
        "id": "false-arena",
        "outputId": "e37b3849-fe60-4781-8ecc-a393876417d2"
      },
      "source": [
        "pg.corr(x=setosa['SepalLengthCm'], y=versicolor['SepalLengthCm'])\n"
      ],
      "id": "false-arena",
      "execution_count": null,
      "outputs": [
        {
          "output_type": "execute_result",
          "data": {
            "text/html": [
              "<div>\n",
              "<style scoped>\n",
              "    .dataframe tbody tr th:only-of-type {\n",
              "        vertical-align: middle;\n",
              "    }\n",
              "\n",
              "    .dataframe tbody tr th {\n",
              "        vertical-align: top;\n",
              "    }\n",
              "\n",
              "    .dataframe thead th {\n",
              "        text-align: right;\n",
              "    }\n",
              "</style>\n",
              "<table border=\"1\" class=\"dataframe\">\n",
              "  <thead>\n",
              "    <tr style=\"text-align: right;\">\n",
              "      <th></th>\n",
              "      <th>n</th>\n",
              "      <th>r</th>\n",
              "      <th>CI95%</th>\n",
              "      <th>r2</th>\n",
              "      <th>adj_r2</th>\n",
              "      <th>p-val</th>\n",
              "      <th>BF10</th>\n",
              "      <th>power</th>\n",
              "    </tr>\n",
              "  </thead>\n",
              "  <tbody>\n",
              "    <tr>\n",
              "      <th>pearson</th>\n",
              "      <td>50</td>\n",
              "      <td>-0.08085</td>\n",
              "      <td>[-0.35, 0.2]</td>\n",
              "      <td>0.006537</td>\n",
              "      <td>-0.035738</td>\n",
              "      <td>0.576743</td>\n",
              "      <td>0.205</td>\n",
              "      <td>0.086335</td>\n",
              "    </tr>\n",
              "  </tbody>\n",
              "</table>\n",
              "</div>"
            ],
            "text/plain": [
              "          n        r         CI95%        r2    adj_r2     p-val   BF10  \\\n",
              "pearson  50 -0.08085  [-0.35, 0.2]  0.006537 -0.035738  0.576743  0.205   \n",
              "\n",
              "            power  \n",
              "pearson  0.086335  "
            ]
          },
          "metadata": {
            "tags": []
          },
          "execution_count": 114
        }
      ]
    },
    {
      "cell_type": "markdown",
      "metadata": {
        "id": "forbidden-sudan"
      },
      "source": [
        "## Virginica PetalLength x Setosa SepalLength"
      ],
      "id": "forbidden-sudan"
    },
    {
      "cell_type": "code",
      "metadata": {
        "id": "illegal-choir",
        "outputId": "fe64ca6e-3303-441f-f779-5c411c342ec5"
      },
      "source": [
        " pg.corr(x=virginica['PetalLengthCm'], y=setosa['SepalLengthCm'])"
      ],
      "id": "illegal-choir",
      "execution_count": null,
      "outputs": [
        {
          "output_type": "execute_result",
          "data": {
            "text/html": [
              "<div>\n",
              "<style scoped>\n",
              "    .dataframe tbody tr th:only-of-type {\n",
              "        vertical-align: middle;\n",
              "    }\n",
              "\n",
              "    .dataframe tbody tr th {\n",
              "        vertical-align: top;\n",
              "    }\n",
              "\n",
              "    .dataframe thead th {\n",
              "        text-align: right;\n",
              "    }\n",
              "</style>\n",
              "<table border=\"1\" class=\"dataframe\">\n",
              "  <thead>\n",
              "    <tr style=\"text-align: right;\">\n",
              "      <th></th>\n",
              "      <th>n</th>\n",
              "      <th>r</th>\n",
              "      <th>CI95%</th>\n",
              "      <th>r2</th>\n",
              "      <th>adj_r2</th>\n",
              "      <th>p-val</th>\n",
              "      <th>BF10</th>\n",
              "      <th>power</th>\n",
              "    </tr>\n",
              "  </thead>\n",
              "  <tbody>\n",
              "    <tr>\n",
              "      <th>pearson</th>\n",
              "      <td>50</td>\n",
              "      <td>-0.077375</td>\n",
              "      <td>[-0.35, 0.21]</td>\n",
              "      <td>0.005987</td>\n",
              "      <td>-0.036312</td>\n",
              "      <td>0.59328</td>\n",
              "      <td>0.203</td>\n",
              "      <td>0.08319</td>\n",
              "    </tr>\n",
              "  </tbody>\n",
              "</table>\n",
              "</div>"
            ],
            "text/plain": [
              "          n         r          CI95%        r2    adj_r2    p-val   BF10  \\\n",
              "pearson  50 -0.077375  [-0.35, 0.21]  0.005987 -0.036312  0.59328  0.203   \n",
              "\n",
              "           power  \n",
              "pearson  0.08319  "
            ]
          },
          "metadata": {
            "tags": []
          },
          "execution_count": 116
        }
      ]
    },
    {
      "cell_type": "markdown",
      "metadata": {
        "id": "banned-distance"
      },
      "source": [
        "## setosa PetalLength x Setosa SepalLength"
      ],
      "id": "banned-distance"
    },
    {
      "cell_type": "code",
      "metadata": {
        "id": "outer-nation",
        "outputId": "22fd15c3-07c4-41c5-86e4-0e9855a65374"
      },
      "source": [
        " pg.corr(x=setosa['PetalLengthCm'], y=setosa['SepalLengthCm'])"
      ],
      "id": "outer-nation",
      "execution_count": null,
      "outputs": [
        {
          "output_type": "execute_result",
          "data": {
            "text/html": [
              "<div>\n",
              "<style scoped>\n",
              "    .dataframe tbody tr th:only-of-type {\n",
              "        vertical-align: middle;\n",
              "    }\n",
              "\n",
              "    .dataframe tbody tr th {\n",
              "        vertical-align: top;\n",
              "    }\n",
              "\n",
              "    .dataframe thead th {\n",
              "        text-align: right;\n",
              "    }\n",
              "</style>\n",
              "<table border=\"1\" class=\"dataframe\">\n",
              "  <thead>\n",
              "    <tr style=\"text-align: right;\">\n",
              "      <th></th>\n",
              "      <th>n</th>\n",
              "      <th>r</th>\n",
              "      <th>CI95%</th>\n",
              "      <th>r2</th>\n",
              "      <th>adj_r2</th>\n",
              "      <th>p-val</th>\n",
              "      <th>BF10</th>\n",
              "      <th>power</th>\n",
              "    </tr>\n",
              "  </thead>\n",
              "  <tbody>\n",
              "    <tr>\n",
              "      <th>pearson</th>\n",
              "      <td>50</td>\n",
              "      <td>0.263874</td>\n",
              "      <td>[-0.02, 0.51]</td>\n",
              "      <td>0.06963</td>\n",
              "      <td>0.030039</td>\n",
              "      <td>0.064077</td>\n",
              "      <td>0.933</td>\n",
              "      <td>0.463675</td>\n",
              "    </tr>\n",
              "  </tbody>\n",
              "</table>\n",
              "</div>"
            ],
            "text/plain": [
              "          n         r          CI95%       r2    adj_r2     p-val   BF10  \\\n",
              "pearson  50  0.263874  [-0.02, 0.51]  0.06963  0.030039  0.064077  0.933   \n",
              "\n",
              "            power  \n",
              "pearson  0.463675  "
            ]
          },
          "metadata": {
            "tags": []
          },
          "execution_count": 118
        }
      ]
    },
    {
      "cell_type": "markdown",
      "metadata": {
        "id": "major-afternoon"
      },
      "source": [
        "### keterangan:"
      ],
      "id": "major-afternoon"
    },
    {
      "cell_type": "markdown",
      "metadata": {
        "id": "universal-assault"
      },
      "source": [
        "+ *n* is the sample size, i.e. how many observations were included in the calculation of the correlation coefficient\n",
        "+  *r* is the correlation coefficient, 0.45 in that case, which is quite high.\n",
        "+ *CI95%* are the 95% confidence intervals around the correlation coefficient\n",
        "+ *r2* and *adj_r2* are the r-squared and ajusted r-squared respectively. As its name implies, it is simply the squared r, which is a measure of the proportion of the variance in the first variable that is predictable from the second variable.\n",
        "+ *p-val* is the p-value of the test. The general rule is that you can reject the hypothesis that the two variables are not correlated if the p-value is below 0.05, which is the case. We can therefore say that there is a significant correlation between the two variables.\n",
        "+ *BF10* is the Bayes Factor of the test, which also measure the statistical significance of the test. It directly measures the strength of evidence in favor of our initial hypothesis that weight and height are correlated. Since this value is very large, it indicates that there is very strong evidence that the two variables are indeed correlated. While they are conceptually different, the Bayes Factor and p-values will in practice often reach the same conclusion.\n",
        "+ *power* is the achieved power of the test, which is the likelihood that we will detect an effect when there is indeed an effect there to be detected. The higher this value is, the more robust our test is. In that case, a value of 1 means that we can be greatly confident in our ability to detect the significant effect.\n"
      ],
      "id": "universal-assault"
    },
    {
      "cell_type": "markdown",
      "metadata": {
        "id": "democratic-couple"
      },
      "source": [
        "## Perform Hypothesis Test\n",
        "## Do setosa species have a larger sepal width than versicolor?"
      ],
      "id": "democratic-couple"
    },
    {
      "cell_type": "code",
      "metadata": {
        "id": "common-modeling",
        "outputId": "fa95af80-65c4-483c-cb36-62336004a210"
      },
      "source": [
        "setosa.SepalWidthCm.mean()"
      ],
      "id": "common-modeling",
      "execution_count": null,
      "outputs": [
        {
          "output_type": "execute_result",
          "data": {
            "text/plain": [
              "3.418"
            ]
          },
          "metadata": {
            "tags": []
          },
          "execution_count": 121
        }
      ]
    },
    {
      "cell_type": "code",
      "metadata": {
        "id": "contained-onion",
        "outputId": "527a88ca-d0f5-4d2c-b5cb-7981430b13b7"
      },
      "source": [
        "versicolor.SepalWidthCm.mean()"
      ],
      "id": "contained-onion",
      "execution_count": null,
      "outputs": [
        {
          "output_type": "execute_result",
          "data": {
            "text/plain": [
              "2.7700000000000005"
            ]
          },
          "metadata": {
            "tags": []
          },
          "execution_count": 122
        }
      ]
    },
    {
      "cell_type": "markdown",
      "metadata": {
        "id": "naval-astronomy"
      },
      "source": [
        "#### Berdasarkan data rata-rata lebar sepal antara kedua spesies tersebut, menunjukan bahwa spesies setosa memilik lebar sepal lebih besar dari spesies versicolor"
      ],
      "id": "naval-astronomy"
    },
    {
      "cell_type": "code",
      "metadata": {
        "id": "mounted-healing"
      },
      "source": [
        ""
      ],
      "id": "mounted-healing",
      "execution_count": null,
      "outputs": []
    }
  ]
}