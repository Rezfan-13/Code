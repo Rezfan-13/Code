{
  "nbformat": 4,
  "nbformat_minor": 0,
  "metadata": {
    "colab": {
      "name": "Tupple.ipynb",
      "provenance": [],
      "authorship_tag": "ABX9TyN72hWtKRufoodoQfvZD77s",
      "include_colab_link": true
    },
    "kernelspec": {
      "name": "python3",
      "display_name": "Python 3"
    }
  },
  "cells": [
    {
      "cell_type": "markdown",
      "metadata": {
        "id": "view-in-github",
        "colab_type": "text"
      },
      "source": [
        "<a href=\"https://colab.research.google.com/github/Rezfan-13/Code/blob/main/Tupple.ipynb\" target=\"_parent\"><img src=\"https://colab.research.google.com/assets/colab-badge.svg\" alt=\"Open In Colab\"/></a>"
      ]
    },
    {
      "cell_type": "markdown",
      "metadata": {
        "id": "yew67TUCtQ5Y"
      },
      "source": [
        "**2.TUPPLE**"
      ]
    },
    {
      "cell_type": "code",
      "metadata": {
        "colab": {
          "base_uri": "https://localhost:8080/"
        },
        "id": "iX3Cn5xntWOR",
        "outputId": "87e89778-b32d-4211-9b1a-8cafe8b44268"
      },
      "source": [
        "# tupple = data berkelompok yang setiap nilai elemennya bersifat tetap dan tidak dapat dibah\r\n",
        "\r\n",
        "rez=(1,3,4,5,6)\r\n",
        "print(type(rez))\r\n",
        "\r\n",
        "#mengakses nilai Tupple sama seperti kita mencoba untuk mengakses nilai List\r\n",
        "print(rez[0])\r\n",
        "print(rez[1])\r\n",
        "print(rez[2])\r\n",
        "print(rez[3])\r\n",
        "print(rez[4])"
      ],
      "execution_count": 3,
      "outputs": [
        {
          "output_type": "stream",
          "text": [
            "<class 'tuple'>\n",
            "1\n",
            "3\n",
            "4\n",
            "5\n",
            "6\n"
          ],
          "name": "stdout"
        }
      ]
    },
    {
      "cell_type": "markdown",
      "metadata": {
        "id": "ftnBw6cYueUf"
      },
      "source": [
        "***menghitung banyak nya elemen yang sama di tupple***"
      ]
    },
    {
      "cell_type": "code",
      "metadata": {
        "colab": {
          "base_uri": "https://localhost:8080/"
        },
        "id": "jao9EAaAuk_L",
        "outputId": "1562eba5-7521-4692-93a7-a311ea94e74b"
      },
      "source": [
        "fan=(1,33,33,1,4,6,33,63,22,54,22,63,54)\r\n",
        "print(fan.count(33))\r\n",
        "print(fan.count(22))\r\n",
        "print(fan.count(54))\r\n",
        "print(fan.count(23))"
      ],
      "execution_count": 12,
      "outputs": [
        {
          "output_type": "stream",
          "text": [
            "3\n",
            "2\n",
            "2\n",
            "0\n"
          ],
          "name": "stdout"
        }
      ]
    },
    {
      "cell_type": "markdown",
      "metadata": {
        "id": "ch--ZvfzvtY-"
      },
      "source": [
        "***mencari nilai Max dan MIn***"
      ]
    },
    {
      "cell_type": "code",
      "metadata": {
        "colab": {
          "base_uri": "https://localhost:8080/"
        },
        "id": "9JOIeHhRvyum",
        "outputId": "955e5dd5-873f-47b1-8dcc-8c3dd6afd8f8"
      },
      "source": [
        "rez=[1,3,1,5,1,3,1,112,4,1,1,23,123131,3,0]\r\n",
        "print(min(rez)) # mencari nilai minimum\r\n",
        "print(max(rez)) #mencari nilai maximum"
      ],
      "execution_count": 14,
      "outputs": [
        {
          "output_type": "stream",
          "text": [
            "0\n",
            "123131\n"
          ],
          "name": "stdout"
        }
      ]
    },
    {
      "cell_type": "markdown",
      "metadata": {
        "id": "2vfqmteLwJhX"
      },
      "source": [
        "***Slice***"
      ]
    },
    {
      "cell_type": "code",
      "metadata": {
        "colab": {
          "base_uri": "https://localhost:8080/"
        },
        "id": "y3XjQg6Ew1vk",
        "outputId": "39291788-bac1-43a4-f0ab-aa3c1711535a"
      },
      "source": [
        "rez=[1,3,1,5,1,3,1,112,4,1,1,23,123131,3,0]\r\n",
        "\r\n",
        "print(rez[:5])\r\n",
        "print(rez[5:])\r\n",
        "\r\n",
        "print(rez[1:6])\r\n",
        "print(rez[2:5])\r\n",
        "\r\n",
        "print(rez[:-1])\r\n",
        "print(rez[-5:-2])"
      ],
      "execution_count": 29,
      "outputs": [
        {
          "output_type": "stream",
          "text": [
            "[1, 3, 1, 5, 1]\n",
            "[3, 1, 112, 4, 1, 1, 23, 123131, 3, 0]\n",
            "[3, 1, 5, 1, 3]\n",
            "[1, 5, 1]\n",
            "[1, 3, 1, 5, 1, 3, 1, 112, 4, 1, 1, 23, 123131, 3]\n",
            "[1, 23, 123131]\n"
          ],
          "name": "stdout"
        }
      ]
    }
  ]
}
