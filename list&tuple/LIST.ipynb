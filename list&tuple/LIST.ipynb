{
  "nbformat": 4,
  "nbformat_minor": 0,
  "metadata": {
    "colab": {
      "name": "LIST.ipynb",
      "provenance": [],
      "collapsed_sections": [],
      "authorship_tag": "ABX9TyOmBXDDb1RXN2v7KC0zmbKO",
      "include_colab_link": true
    },
    "kernelspec": {
      "name": "python3",
      "display_name": "Python 3"
    }
  },
  "cells": [
    {
      "cell_type": "markdown",
      "metadata": {
        "id": "view-in-github",
        "colab_type": "text"
      },
      "source": [
        "<a href=\"https://colab.research.google.com/github/Rezfan-13/Code/blob/main/LIST.ipynb\" target=\"_parent\"><img src=\"https://colab.research.google.com/assets/colab-badge.svg\" alt=\"Open In Colab\"/></a>"
      ]
    },
    {
      "cell_type": "markdown",
      "metadata": {
        "id": "Sjs_AZOwsAFA"
      },
      "source": [
        "*31 January 2021*"
      ]
    },
    {
      "cell_type": "markdown",
      "metadata": {
        "id": "kRHNsH99M4FN"
      },
      "source": [
        "**1.LIST**\r\n"
      ]
    },
    {
      "cell_type": "code",
      "metadata": {
        "colab": {
          "base_uri": "https://localhost:8080/"
        },
        "id": "OM_9ehJfM8kX",
        "outputId": "e0d8fd62-0bc2-4646-adff-094bbfd68242"
      },
      "source": [
        "#list dibuat dengan menggunakan bracket [] dan setiap anggota nya di pisah menggunakan tanda koma.\r\n",
        "a = [19,5,22]\r\n",
        "print(a)"
      ],
      "execution_count": null,
      "outputs": [
        {
          "output_type": "stream",
          "text": [
            "[19, 5, 22]\n"
          ],
          "name": "stdout"
        }
      ]
    },
    {
      "cell_type": "markdown",
      "metadata": {
        "id": "cRrUNM-MXKk3"
      },
      "source": [
        "***menambah elemen ke dalam list***"
      ]
    },
    {
      "cell_type": "code",
      "metadata": {
        "colab": {
          "base_uri": "https://localhost:8080/"
        },
        "id": "zU4n1iEyXSDX",
        "outputId": "643666b8-0183-42d5-859d-e1f66cdbca9c"
      },
      "source": [
        "#append: menambahkan satu elemen ke bagian akhir list\r\n",
        "rezfan=[29,\"atmadja\",9,92,3,13,4,24]\r\n",
        "rezfan.append(19)\r\n",
        "print(rezfan)\r\n",
        "\r\n",
        "#insert: menyisipkan satu elemen baru ke dalam list pada posisi atau index yang kita inginkan\r\n",
        "rezfan.insert(0,30)\r\n",
        "print(rezfan)\r\n",
        "\r\n",
        "#extend : menggambungkan list dengan list atau data berkelompok dari tipe lain\r\n",
        "rezfan.extend([3,1,3,4,1,3,4])\r\n",
        "print(rezfan)"
      ],
      "execution_count": null,
      "outputs": [
        {
          "output_type": "stream",
          "text": [
            "[29, 'atmadja', 9, 92, 3, 13, 4, 24, 19]\n",
            "[30, 29, 'atmadja', 9, 92, 3, 13, 4, 24, 19]\n",
            "[30, 29, 'atmadja', 9, 92, 3, 13, 4, 24, 19, 3, 1, 3, 4, 1, 3, 4]\n"
          ],
          "name": "stdout"
        }
      ]
    },
    {
      "cell_type": "markdown",
      "metadata": {
        "id": "DhPAsEK5iOI3"
      },
      "source": [
        "***menghapus elemen list***"
      ]
    },
    {
      "cell_type": "code",
      "metadata": {
        "colab": {
          "base_uri": "https://localhost:8080/"
        },
        "id": "ppb7510IiZ6M",
        "outputId": "7fc5e188-acc4-4584-9bb8-947ebc80c1fe"
      },
      "source": [
        "#del : menghapus elemen list yang terletak pada indeks tertentu\r\n",
        "nama=[\"jenita\",\"nina\",\"chanda\",\"cintia\"]\r\n",
        "del nama[0]\r\n",
        "print(nama)\r\n",
        "\r\n",
        "#remove: menghapus value tertentu pada list\r\n",
        "nama.remove(\"nina\")\r\n",
        "print(nama)\r\n",
        "\r\n",
        "#pop: : menghapus elemen paling akhir\r\n",
        "nama.pop()\r\n",
        "print(nama)"
      ],
      "execution_count": null,
      "outputs": [
        {
          "output_type": "stream",
          "text": [
            "['nina', 'chanda', 'cintia']\n",
            "['chanda', 'cintia']\n",
            "['chanda']\n"
          ],
          "name": "stdout"
        }
      ]
    },
    {
      "cell_type": "markdown",
      "metadata": {
        "id": "xWnHpmJUYHmw"
      },
      "source": [
        "***mengurutkan elemen list***"
      ]
    },
    {
      "cell_type": "code",
      "metadata": {
        "colab": {
          "base_uri": "https://localhost:8080/"
        },
        "id": "hgrMhFMKYXTm",
        "outputId": "99ac9139-f4dc-4860-8850-6beb8af443d5"
      },
      "source": [
        "rez=[1,5,2,7,24,90,6,34]\r\n",
        "#metode 1 list.sort()\r\n",
        "rez.sort()\r\n",
        "print(rez)\r\n",
        "\r\n",
        "#metode 2 sorted()\r\n",
        "b=sorted(rez)\r\n",
        "print(b)\r\n",
        "\r\n",
        "#mengurutkan nilai secara terbalik\r\n",
        "c=sorted(rez, reverse= True)\r\n",
        "print(c)\r\n"
      ],
      "execution_count": 13,
      "outputs": [
        {
          "output_type": "stream",
          "text": [
            "[1, 2, 5, 6, 7, 24, 34, 90]\n",
            "[1, 2, 5, 6, 7, 24, 34, 90]\n",
            "[90, 34, 24, 7, 6, 5, 2, 1]\n"
          ],
          "name": "stdout"
        }
      ]
    },
    {
      "cell_type": "markdown",
      "metadata": {
        "id": "idBaWp-GceVi"
      },
      "source": [
        "***membalik urutan elemen list***"
      ]
    },
    {
      "cell_type": "code",
      "metadata": {
        "colab": {
          "base_uri": "https://localhost:8080/"
        },
        "id": "V48t4LL8cnHu",
        "outputId": "7f77d16f-2c3b-433b-e171-27df78d65247"
      },
      "source": [
        "fan=[9,2,34,5,1,3,4]\r\n",
        "fan.reverse\r\n",
        "print(fan)\r\n",
        "\r\n",
        "rez=[81,3,5,3,643,8,9,32,43]\r\n",
        "rez.reverse\r\n",
        "print(rez)"
      ],
      "execution_count": 19,
      "outputs": [
        {
          "output_type": "stream",
          "text": [
            "[9, 2, 34, 5, 1, 3, 4]\n",
            "[81, 3, 5, 3, 643, 8, 9, 32, 43]\n"
          ],
          "name": "stdout"
        }
      ]
    },
    {
      "cell_type": "markdown",
      "metadata": {
        "id": "UlpYu8fCdbgu"
      },
      "source": [
        "***mencari nilai maksimum dan minimum***"
      ]
    },
    {
      "cell_type": "code",
      "metadata": {
        "colab": {
          "base_uri": "https://localhost:8080/"
        },
        "id": "G8_09JsYfbhP",
        "outputId": "76dfa243-c95d-4929-d950-78e450f6cab7"
      },
      "source": [
        "jen=[12,3,1,413,4,1,3,14,1,44441,413,413,0]\r\n",
        "b=min(jen)\r\n",
        "x=max(jen)\r\n",
        "print(\"nilai maksimum dan minimum dari list adalah\",x,\" dan\",b)\r\n",
        "#Pemakaian min() dan max() bisa untuk semua data berkelompok, tidak hanya list"
      ],
      "execution_count": 22,
      "outputs": [
        {
          "output_type": "stream",
          "text": [
            "nilai maksimum dan minimum dari list adalah 44441  dan 0\n"
          ],
          "name": "stdout"
        }
      ]
    },
    {
      "cell_type": "markdown",
      "metadata": {
        "id": "y0SDxK1mgpVF"
      },
      "source": [
        "***Slice***"
      ]
    },
    {
      "cell_type": "code",
      "metadata": {
        "colab": {
          "base_uri": "https://localhost:8080/"
        },
        "id": "DkxOM7zNgvoc",
        "outputId": "3a091b58-c51d-401d-a064-34031410c8ca"
      },
      "source": [
        "x=[1,2,3,4,5,6,7,8,9,10,11,12,13,14,15,16,17,18]\r\n",
        "print(x[1:6])\r\n",
        "print(x[:7])\r\n",
        "\r\n",
        "print(x[1:])\r\n",
        "print(x[5:7])\r\n",
        "\r\n",
        "print(x[1:-1])\r\n",
        "print(x[11:-1])"
      ],
      "execution_count": 31,
      "outputs": [
        {
          "output_type": "stream",
          "text": [
            "[2, 3, 4, 5, 6]\n",
            "[1, 2, 3, 4, 5, 6, 7]\n",
            "[2, 3, 4, 5, 6, 7, 8, 9, 10, 11, 12, 13, 14, 15, 16, 17, 18]\n",
            "[6, 7]\n",
            "[2, 3, 4, 5, 6, 7, 8, 9, 10, 11, 12, 13, 14, 15, 16, 17]\n",
            "[12, 13, 14, 15, 16, 17]\n"
          ],
          "name": "stdout"
        }
      ]
    },
    {
      "cell_type": "code",
      "metadata": {
        "colab": {
          "base_uri": "https://localhost:8080/"
        },
        "id": "vyXYjXviiO6M",
        "outputId": "2b46c12f-04f2-4637-b2d4-5503be4ac644"
      },
      "source": [
        "#mengambil nilai ke N dari List\r\n",
        "x=[1,2,3,4,5,6,7,8,9,10,11,12,14,15,1,19,20]\r\n",
        "print(x[::1])\r\n",
        "print(x[::2])\r\n",
        "print(x[1:10:2])\r\n",
        "\r\n",
        "print(x[::-3])\r\n",
        "\r\n",
        "#ganti nilai menggunakan slice\r\n",
        "x[:5]=[12,3,3,4]\r\n",
        "print(x)\r\n"
      ],
      "execution_count": 37,
      "outputs": [
        {
          "output_type": "stream",
          "text": [
            "[1, 2, 3, 4, 5, 6, 7, 8, 9, 10, 11, 12, 14, 15, 1, 19, 20]\n",
            "[1, 3, 5, 7, 9, 11, 14, 1, 20]\n",
            "[2, 4, 6, 8, 10]\n",
            "[20, 15, 11, 8, 5, 2]\n",
            "[12, 3, 3, 4, 6, 7, 8, 9, 10, 11, 12, 14, 15, 1, 19, 20]\n"
          ],
          "name": "stdout"
        }
      ]
    }
  ]
}
