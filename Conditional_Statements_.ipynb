{
  "nbformat": 4,
  "nbformat_minor": 0,
  "metadata": {
    "colab": {
      "name": " Conditional Statements .ipynb",
      "provenance": [],
      "authorship_tag": "ABX9TyNiXG0YDzzJycDFFpBc9+Lw",
      "include_colab_link": true
    },
    "kernelspec": {
      "name": "python3",
      "display_name": "Python 3"
    }
  },
  "cells": [
    {
      "cell_type": "markdown",
      "metadata": {
        "id": "view-in-github",
        "colab_type": "text"
      },
      "source": [
        "<a href=\"https://colab.research.google.com/github/Rezfan-13/Code/blob/main/Conditional_Statements_.ipynb\" target=\"_parent\"><img src=\"https://colab.research.google.com/assets/colab-badge.svg\" alt=\"Open In Colab\"/></a>"
      ]
    },
    {
      "cell_type": "markdown",
      "metadata": {
        "id": "VbZLd3NzT6BB"
      },
      "source": [
        "**IF**"
      ]
    },
    {
      "cell_type": "code",
      "metadata": {
        "colab": {
          "base_uri": "https://localhost:8080/"
        },
        "id": "xJtBRylmT9d2",
        "outputId": "f6293173-2150-4b85-9aa5-b76bb37cc45a"
      },
      "source": [
        "#Percabangan If digunakan saat terdapat satu pilihan keputusan.\r\n",
        "angka=10\r\n",
        "if angka <11:\r\n",
        "  print(\"benar\")\r\n",
        "\r\n",
        "rez=10\r\n",
        "if rez/2 <= 6:\r\n",
        "  print(\"oke\")\r\n",
        "\r\n",
        "\r\n"
      ],
      "execution_count": 19,
      "outputs": [
        {
          "output_type": "stream",
          "text": [
            "benar\n",
            "oke\n",
            "kambing\n"
          ],
          "name": "stdout"
        }
      ]
    },
    {
      "cell_type": "markdown",
      "metadata": {
        "id": "EsMkfHOLaD4R"
      },
      "source": [
        "**IF / ELSE**"
      ]
    },
    {
      "cell_type": "code",
      "metadata": {
        "colab": {
          "base_uri": "https://localhost:8080/"
        },
        "id": "8Dn8HmP6aJVe",
        "outputId": "96aae2ff-f025-4dcf-cbb2-43c6229226f0"
      },
      "source": [
        "#Percabangan If/Else digunakan saat terdapat dua pilihan keputusan.\r\n",
        "angka=10\r\n",
        "if angka <9:\r\n",
        "  print(\"benar\")\r\n",
        "else:\r\n",
        "    print(\"salah\")\r\n",
        "\r\n",
        "rez=10\r\n",
        "if rez/2 <= 2:\r\n",
        "  print(\"oke\")\r\n",
        "else:\r\n",
        "  print(\"mantap\")\r\n",
        "\r\n",
        "  beta=10\r\n",
        "if beta<9:\r\n",
        "  print(\"monyet\")\r\n",
        "else:\r\n",
        "  print(\"kambing\")"
      ],
      "execution_count": 20,
      "outputs": [
        {
          "output_type": "stream",
          "text": [
            "salah\n",
            "mantap\n",
            "kambing\n"
          ],
          "name": "stdout"
        }
      ]
    },
    {
      "cell_type": "code",
      "metadata": {
        "colab": {
          "base_uri": "https://localhost:8080/"
        },
        "id": "xWBj7Oq0b7P7",
        "outputId": "52fcc5b4-489e-46e1-ab7e-97100f45af8b"
      },
      "source": [
        "#sim\r\n",
        "rez=int(input(\"masukan umur kamu:\"))\r\n",
        "if rez>=21:\r\n",
        "  print(\"kamu berhak untuk meminum minuman berakohol \")\r\n",
        "else:\r\n",
        "  print(\"jangan dulu\")"
      ],
      "execution_count": 22,
      "outputs": [
        {
          "output_type": "stream",
          "text": [
            "masukan umur kamu:21\n",
            "kamu berhak untuk meminum minuman berakohol \n"
          ],
          "name": "stdout"
        }
      ]
    },
    {
      "cell_type": "code",
      "metadata": {
        "colab": {
          "base_uri": "https://localhost:8080/"
        },
        "id": "QVgud9j-g4yd",
        "outputId": "dbae31bf-1f59-49a0-d428-dfac5424c375"
      },
      "source": [
        "#nested\r\n",
        "x=int(input(\"masukan angka: \"))\r\n",
        "if x<=100:\r\n",
        "  if x>=50:\r\n",
        "    print(\"yess\")\r\n",
        "  elif x<50:\r\n",
        "    print(\"no\")\r\n",
        "else:\r\n",
        "  print(\"entah\")\r\n"
      ],
      "execution_count": 55,
      "outputs": [
        {
          "output_type": "stream",
          "text": [
            "masukan angka: 70\n",
            "yess\n"
          ],
          "name": "stdout"
        }
      ]
    },
    {
      "cell_type": "markdown",
      "metadata": {
        "id": "jBpeJhR7cnzO"
      },
      "source": [
        "**ELIF**"
      ]
    },
    {
      "cell_type": "code",
      "metadata": {
        "colab": {
          "base_uri": "https://localhost:8080/"
        },
        "id": "ClKW04xgcyzj",
        "outputId": "3c15c024-4e4f-455b-8d47-c34d54b8c24e"
      },
      "source": [
        "#Percabangan If/Elif/Else digunakan apabila terdapat lebih dari dua pilihan keputusan.\r\n",
        "shift=int(input(\"masukan angka:\"))\r\n",
        "if shift<=20:\r\n",
        "  print(\"siap\")\r\n",
        "elif shift <=40:\r\n",
        "  print(\"oke\")\r\n",
        "else:\r\n",
        "  print(\"oh iya\")\r\n",
        "\r\n"
      ],
      "execution_count": 25,
      "outputs": [
        {
          "output_type": "stream",
          "text": [
            "masukan angka:70\n",
            "oh iya\n"
          ],
          "name": "stdout"
        }
      ]
    },
    {
      "cell_type": "code",
      "metadata": {
        "colab": {
          "base_uri": "https://localhost:8080/"
        },
        "id": "JoRjbecKeWCz",
        "outputId": "6e48e087-385f-4152-c32b-1be3482e4826"
      },
      "source": [
        "hari_ini=input(\"masukan hari:\")\r\n",
        "\r\n",
        "if(hari_ini == \"senin\"):\r\n",
        "    print(\"Saya akan travelling\")\r\n",
        "elif(hari_ini == \"selasa\"):\r\n",
        "    print(\"Saya akan mendaki\")\r\n",
        "elif(hari_ini == \"rabu\"):\r\n",
        "    print(\"Saya akan kuliah\")\r\n",
        "elif(hari_ini == \"kamis\"):\r\n",
        "    print(\"Saya akan terbang\")\r\n",
        "elif(hari_ini == \"jumat\"):\r\n",
        "    print(\"Saya akan kuliah\")\r\n",
        "elif(hari_ini == \"sabtu\"):\r\n",
        "    print(\"Saya akan istirahat\")\r\n",
        "elif(hari_ini ==\"Minggu\"):\r\n",
        "    print(\"Saya akan libur\")\r\n",
        "else:\r\n",
        "  print(\"typo\")"
      ],
      "execution_count": 33,
      "outputs": [
        {
          "output_type": "stream",
          "text": [
            "masukan hari:sabtu\n",
            "Saya akan istirahat\n"
          ],
          "name": "stdout"
        }
      ]
    }
  ]
}